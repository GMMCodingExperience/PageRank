{
  "nbformat": 4,
  "nbformat_minor": 0,
  "metadata": {
    "kernelspec": {
      "display_name": "Python 3",
      "language": "python",
      "name": "python3"
    },
    "language_info": {
      "codemirror_mode": {
        "name": "ipython",
        "version": 3
      },
      "file_extension": ".py",
      "mimetype": "text/x-python",
      "name": "python",
      "nbconvert_exporter": "python",
      "pygments_lexer": "ipython3",
      "version": "3.7.1"
    },
    "colab": {
      "name": "PythonEinführung.ipynb",
      "provenance": [],
      "collapsed_sections": []
    }
  },
  "cells": [
    {
      "cell_type": "markdown",
      "metadata": {
        "id": "SOagkPSYeI_i"
      },
      "source": [
        "# Python - Erste Schritte\n",
        "\n",
        "Dieses Python-Notebook gibt eine kurze Einführung in Python und IPython Notebooks. Du kannst es verwenden, um dir Inspiration zu holen, was mit Python alles möglich ist oder um wichtige Funktionen bzw. den Syntax nachzuschauen."
      ]
    },
    {
      "cell_type": "markdown",
      "metadata": {
        "id": "MZjIpsrpeI_o"
      },
      "source": [
        "## Python und IPython Notebooks\n",
        "Python ist eine weit verbreitete high-level Allzweckprogrammiersprache. Sie wurde 1991 von Guido van Rossum geschaffen und von der Python Software Foundation weiterentwickelt. \n",
        "\n",
        "Ein IPython-Notebook besteht aus einer Anzahl von Zellen. Jede Zelle kann Python-Code enthalten. Du kannst eine Zelle ausführen, indem du darauf klickst und [Shift-Enter] drückst. Dann wird der Code in der Zelle ausgeführt, und die Ausgabe der Zelle wird unterhalb der Zelle angezeigt. Nach dem Ausführen der ersten Zelle sieht das Notebook zum Beispiel so aus:\n",
        "\n",
        "'Hello World'"
      ]
    },
    {
      "cell_type": "code",
      "metadata": {
        "colab": {
          "base_uri": "https://localhost:8080/"
        },
        "id": "mhJ4iC2heI_q",
        "outputId": "80af4112-e0f4-4372-f2ce-8a01ec289d21"
      },
      "source": [
        "print('Hello World!')"
      ],
      "execution_count": 1,
      "outputs": [
        {
          "output_type": "stream",
          "text": [
            "Hello World!\n"
          ],
          "name": "stdout"
        }
      ]
    },
    {
      "cell_type": "markdown",
      "metadata": {
        "id": "8P0KyAxMeI_r"
      },
      "source": [
        "## Variablen und Datenstrukturen in Python\n",
        "\n",
        "In Python musst du den Typ der Variablen nicht deklarieren, d.h. du musst nicht angeben ob du einen integer (Ganze Zahl), einen float (Kommazahl) etc. erstellen möchtest. Gib den Namen der Variable einfach ein und wenn ihr Werte gegeben werden, dann weiß sie automatisch, ob der gegebene Wert ein integer, float oder char (einzelnes Zeichen) oder sogar ein string (zusammenhängender Text) ist.\n",
        "\n",
        "Die wichtigsten Datenstrukturen in Python sind Listen und Wörterbücher (dictionaries)"
      ]
    },
    {
      "cell_type": "code",
      "metadata": {
        "id": "gU5veafWeI_r"
      },
      "source": [
        "# Pythonprogramm um Variablen und Datenstrukturen zu deklarieren (# beginnt eine Kommentarzeile in Python)\n",
        "print('Erst, deklarieren wir Variablen:')\n",
        "myNumber = 3 # int\n",
        "print(myNumber) \n",
        "\n",
        "myNumber2 = 4.5 # float\n",
        "print(myNumber2) \n",
        "\n",
        "myNumber =\"helloworld\" # string\n",
        "print(myNumber) \n",
        "\n",
        "print('Dann, Datenstrukturen:')\n",
        "myList = [1,2,3,4] # Liste\n",
        "print(myList)\n",
        "\n",
        "myDict = {'dog name': 'Bello', 'dog age':3} # Wörterbuch\n",
        "print(myDict)"
      ],
      "execution_count": null,
      "outputs": []
    },
    {
      "cell_type": "markdown",
      "metadata": {
        "id": "oepT_lNKeI_r"
      },
      "source": [
        "## Bedingungen und Funktionen\n",
        "Um komplexeren Code zu erstellen, müssen Bedingungen und Funktionen definiert werden. Die Auswahl in Python erfolgt mit den beiden Schlüsselwörtern 'if' und 'elif' (elseif) und 'else'. \n",
        "Funktionen kannst du dir wie ein Bündel von Code vorstellen, das eine bestimmte Aufgabe im gesamten Python-Skript erledigen soll. Python verwendet das Schlüsselwort 'def', um eine Funktion zu definieren.\n",
        "\n",
        "Im Folgenden werden zwei Beispiele zur Veranschaulichung von Bedingungen und Funktionen gegeben. Der Auswahlcode vergleicht zwei Werte und ermittelt den größeren. Die implementierte Funktion addiert einfach zwei Argumente zueinander. Achte besonders auf die Einrückung, die für Python und den Aufbau des Codes sehr wichtig ist, denn sie zeigt an worauf sich die Bedingung, die Schleife oder Funktion bezieht bzw was in ihr enthalten ist. Wenn du die richtige Einrückung vergisst, wird der Code nicht durchlaufen."
      ]
    },
    {
      "cell_type": "code",
      "metadata": {
        "id": "UxUEncqTeI_t"
      },
      "source": [
        "# Pythonprogramm um darzustellen wie Bedingungen funktionieren\n",
        "\n",
        "num1 = 34\n",
        "num2 = 12\n",
        "if(num1>num2): \n",
        "    print(\"num1 ist größer\") \n",
        "elif(num1<num2): \n",
        "    print(\"num1 ist kleiner\") \n",
        "else: \n",
        "    print(\"num1 und num2 sind gleich groß\") \n"
      ],
      "execution_count": null,
      "outputs": []
    },
    {
      "cell_type": "code",
      "metadata": {
        "id": "r7g22_OkeI_t"
      },
      "source": [
        "# Pythonprogramm um Funktionen an einem einfachen Addierer zu illustrieren\n",
        "\n",
        "def adder(arg1, arg2): # hier wird der Name der Funktion (adder) und die Argumente (arg1 und arg2) die sie annimmt definiert\n",
        "    result = arg1 + arg2 # das ist der Körper der Funktion. Hier eine einfache Addition\n",
        "    return result # \"return\" ist das Schlüsselwort welches den Output der Funktion definiert. Die variablen die danach folgen (hier result) werden zurückgegeben\n",
        "\n",
        "print('Testen von adder mit 2 und 5 macht:')\n",
        "result = adder(2,5) # Hier wenden wir die Funktion mit den beiden Argumenten 2 und 5 an und speichern das Ergebnis in der Variable result\n",
        "print(result) # Nun müssen wir das Ergebnis noch ausgeben (ausdrucken/print) um es wirklich shenen zu können\n",
        "\n",
        "print('Testen von adder mit 1 and -3.5 macht:')\n",
        "print(adder(1,-3.5)) # Hier ist ein weiterer Test. Wir speichern das Ergebnis nicht in einer neuen Varible sondern geben es direkt aus.    "
      ],
      "execution_count": null,
      "outputs": []
    },
    {
      "cell_type": "markdown",
      "metadata": {
        "id": "p1vQCabseI_u"
      },
      "source": [
        "**Miniaufgabe**: Um herauszufinden, ob das bisherige verstanden hast, schreibe doch eine Funktion die den größeren Wert vom kleineren abzieht. Nenne deine Funktion *substract_positive*. Sie nimmt zwei Argumente an und gibt das Ergebnis der Subtraktion zurück."
      ]
    },
    {
      "cell_type": "code",
      "metadata": {
        "id": "Z7xt3fWveI_u"
      },
      "source": [
        "# Tipp: Operatoren um Variablen zu vergleichen sind in Python: < (kleiner), > (größer), =< (kleiner gleich), >= (größer gleich), != (ungleich)\n",
        "# CODE HIER:\n"
      ],
      "execution_count": null,
      "outputs": []
    },
    {
      "cell_type": "markdown",
      "metadata": {
        "id": "hyuiIHX2eI_u"
      },
      "source": [
        "Nun teste deinen Code, indem du die nächste Zelle ausfühst. Stimmt das Ergebnis?"
      ]
    },
    {
      "cell_type": "code",
      "metadata": {
        "id": "Jco9nvWGeI_v"
      },
      "source": [
        "print(substract_positive(5,10))\n",
        "print(substract_positive(-3,4.3))\n",
        "print(substract_positive(2,2))"
      ],
      "execution_count": null,
      "outputs": []
    },
    {
      "cell_type": "markdown",
      "metadata": {
        "id": "wT1OMBOMm0e7"
      },
      "source": [
        "Falls es nicht stimmt. Gibt dir die Fehlermeldung einen Hinweis was das Problem ist? Hast du die Einrückungen beachtet? Du kannst auch versuchen den Fehler zu Googlen, das führt bei Programmierproblemen oft sehr schnell zur Lösung. Auf Englisch hast eine bessere Chance auf ein schnelles Ergebnis als auf Deutsch."
      ]
    },
    {
      "cell_type": "markdown",
      "metadata": {
        "id": "kbtSNNCgeI_v"
      },
      "source": [
        "## Python packages - NumPy und Matplotlib\n",
        "Für Python gibt es viele Pakete (packages), die bereits fertige Funktionen, Datenstrukturen oder Operationen enthalten. Diu kannst diese Pakete in dein Notebook einbinden, um sie zu nutzen. \n",
        "\n",
        "Eines der wichtigsten Pakete ist NumPy. Es ist das grundlegende Paket für das wissenschaftliche Rechnen mit Python. Es enthält unter anderem: ein vielseitiges N-dimensionales Array-Objekt, mathematische Funktionen wie Sinus und Cosinus, nützliche Funktionen für lineare Algebra, Konstanten wie $\\pi$ und Zufallszahlen.\n",
        "\n",
        "Matplotlib ist eine umfangreiche Bibliothek zum Erstellen von statischen, animierten und interaktiven Visualisierungen in Python. Daher ist dieses Paket oft sehr nützlich, um deine Ergebnisse zu visualisieren."
      ]
    },
    {
      "cell_type": "code",
      "metadata": {
        "id": "AjyhKdmWeI_w"
      },
      "source": [
        "# importieren von packages\n",
        "import numpy as np # Das übersetzt sich zu: imprtiere das Paket numpy und speichere es für die Nutzung als np\n",
        "import matplotlib.pyplot as plt"
      ],
      "execution_count": null,
      "outputs": []
    },
    {
      "cell_type": "markdown",
      "metadata": {
        "id": "xr9EufXGeI_w"
      },
      "source": [
        "Aber wie diese importierten Pakete nutzen?  Hier ist ein kleines Beispiel welches den relativen Fehler von zwei Zahlen auf Basis einer der Zhalen berechnet. Die Definition lautet:\n",
        "$$\\frac{x-y}{x}$$ wobei $x$ die Basis (wahrer Wert ist) und $y$ die Vorhersage bzw. der gemessene Wert."
      ]
    },
    {
      "cell_type": "code",
      "metadata": {
        "id": "PhyMU9zDeI_x"
      },
      "source": [
        "def rel_error(x, y):\n",
        "    \"\"\" errechnet den relativen Fehler \"\"\" # Hast du gemerkt, dass man auch mit \"\"\" in Kommentare einfügen kann? Das ist für mehrzeilige Kommentare.\n",
        "    absolute_difference = np.abs(x - y) # np.abs() gibt den absoluten Wert / Betrag zurück z.B. für -2 gibt die Funktion 2 zurück\n",
        "    real_value = np.maximum(1e-8, np.abs(x)) # np.maximum(arg1,arg2) gibt den größeren Wert der beiden zurück\n",
        "    \n",
        "    return absolute_difference / real_value\n",
        "\n",
        "print(rel_error(2,2.5))"
      ],
      "execution_count": null,
      "outputs": []
    },
    {
      "cell_type": "markdown",
      "metadata": {
        "id": "ZxLpiIDTeI_6"
      },
      "source": [
        "## Referenzen\n",
        "1. https://cheatography.com/t7l/cheat-sheets/projektseminare-python-3/ - Spickzettel mit wichtigen Definitionen etc.\n",
        "2. https://www.geeksforgeeks.org/python-3-basics/ - An einfachen Beispielen wird Python von erklärt. Kann auch gut zum Nachschlagen genutzt werden.\n",
        "3. https://numpy.org/ - Website zum NumPy package - hier findest du die Denfitionen aller Funktionen die das Paket beinhaltet.\n",
        "4. https://matplotlib.org/ - Website zum Matplotlib package - hier findest du die Denfitionen aller Funktionen die das Paket beinhaltet."
      ]
    }
  ]
}