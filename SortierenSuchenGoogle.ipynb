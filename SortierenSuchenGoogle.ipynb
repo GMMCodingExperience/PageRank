{
 "cells": [
  {
   "cell_type": "markdown",
   "metadata": {},
   "source": [
    "# Wie hängen Sortieren und Suchmaschinen wie Google zusammen?\n",
    "\n",
    "Nachdem du nun einige Such- und Sortieralgorithmen implementiert hast, wollen wir uns jetzt anschauen für was diese genutzt werden können."
   ]
  },
  {
   "cell_type": "markdown",
   "metadata": {},
   "source": [
    "## 1. Erstellung eines Mini-WWW mit 11 Seiten\n",
    "\n",
    "Damit wir besser nachvollziehen können, was genau passiert, erstellen wir zunächst ein Mini-WWW. Es besteht aus einer Liste an Seiten. Jede Seite ist ein Dictionary mit verschiedenen Einträgen wie Domaine, Webseitentext (content) und IP-Adresse. Bei den Seiten in unserem Mini-WWW geht es immer um das Thema MINT."
   ]
  },
  {
   "cell_type": "code",
   "execution_count": null,
   "metadata": {},
   "outputs": [],
   "source": [
    "s1 = {\"domain\":\"de.wikipedia.org/wiki/MINT-Fächer\", \"ip-adresse\":\"123.456.789.999\", \n",
    "            \"content\":\"Der Ausdruck MINT ist ein Initialwort, gebildet aus den Bezeichnungen Mathematik, Informatik, Naturwissenschaft, Technik. Die MINT-Fachbereiche bilden den zentralen wirtschaftlichen Innovationssektor, wobei zu den klassischen Bereichen Naturwissenschaft und Technik im digitalen Zeitalter auch die Strukturwissenschaften hinzugetreten sind. Eine vergleichbare Bezeichnung im Englischen ist STEM (beziehungsweise STEM fields)\"}\n",
    "s2 = {\"domain\":\"www.kuka.com\", \"ip-adresse\":\"456.123.789.543\", \n",
    "            \"content\":\"KUKA bietet Industrieroboter in zahlreichen Varianten mit verschiedensten Traglasten und Reichweiten an. Unser Produktangebot umfasst auch die passende Roboterperipherie – von der Lineareinheit bis zum Endeffektor. Kombiniert mit fortschrittlichster Software und innovativen Steuerungen entwickeln wir mit Ihnen individuelle Lösungen für Ihre Fertigungsprozesse.\"}\n",
    "s3 = {\"domain\":\"www.enertrag.com\", \"ip-adresse\":\"422.548.533.889\", \n",
    "            \"content\":\" Windgas direkt aus dem Windfeld - Seit 2011 erzeugen wir im Hybridkraftwerk mittels Elektrolyse aus Windstrom grünen Wasserstoff, der unter anderem zu Heizzwecken, zur Betankung von PKWs und Bussen und in industriellen Prozessen eingesetzt wird. Ebenso wird der grüne Wasserstoff, der komplett ohne CO2-Emissionen hergestellt wird, schon heute unter der Marke ENERTRAG Windgas zur Versorgung von Brennstoffzellen in Notstromversorgungseinheiten verwendet.\"}\n",
    "s4 = {\"domain\":\"www.computerweekly.com\", \"ip-adresse\":\"123.236.745.459\", \n",
    "            \"content\":\"Künstliche Intelligenz (KI) beziehungsweise Artificial Intelligence (AI) simuliert menschliche Intelligenz mit Maschinen, insbesondere Computer Systemen. Dies umfasst das Lernen (die Erfassung von Informationen und Regeln für die Verwendung der Informationen), die Schlussfolgerung (die Verwendung der Regeln, um ungefähre oder endgültige Schlussfolgerungen zu ziehen) und die Selbstkorrektur. Besondere Anwendungen der KI sind Expertensysteme, Spracherkennung und Machine Vision.\"}\n",
    "s5 = {\"domain\":\"www.erneuerbare-energien.de\", \"ip-adresse\":\"123.789.111.200\", \n",
    "            \"content\":\"Nachhaltige Energiequellen erschließen - Die Energiewende ist der Weg in eine Zukunft ohne Atomenergie - hin zu einer Industriegesellschaft, die dem Gedanken der Nachhaltigkeit und der Verantwortung gegenüber kommenden Generationen verpflichtet ist. Dabei soll unser Strom bis 2035 zu 55 bis 60 Prozent und bis 2050 zu mindestens 80 Prozent aus erneuerbaren Energiequellen kommen. Der Ausbau der erneuerbaren Energien ist daher die zentrale Säule der Energiewende.\"}\n",
    "s6 = {\"domain\":\"www.adac.de\", \"ip-adresse\":\"434.548.522.000\", \n",
    "            \"content\":\"Autonomes Fahren wird Realität: Es gibt selbstfahrende Autos und Busse ohne Fahrer. So weit ist die Technik – und das sind ihre Grenzen. Autonom fahrende Taxis mit sicherer Fußgängererkennung, Busse, die ihre Passagiere automatisiert und stets pünktlich befördern, Ampeln, die mitdenken, und vor allem: lautlose Elektroantriebe. Werbespots der Autoindustrie versprechen Großstadt-Idylle pur.\"}\n",
    "s7 = {\"domain\":\"www.ibm.com\", \"ip-adresse\":\"234.123.789.543\", \n",
    "            \"content\":\"Quantentechnologie gemeinsam vorantreiben: Das Quantum-Ökosystem und der Quanten Computer - Große Ideen fangen oft in einer Garage an – Gottlieb Daimler hat 1886 in einer die moderne Mobilität erfunden, und natürlich sind auch die Garagen von Bill Gates, Steve Jobs oder den Gründern von Hewlett-Packard berühmt. Gute Ideen werden aber dann groß, wenn sie die Garage verlassen, und sich Leute über diese Ideen austauschen, sie fortentwickeln und schließlich die Produkte nutzen. Die Quantentechnologie stellt da keine Ausnahme dar.\"}\n",
    "s8 = {\"domain\":\"www.siemens-healthineers.com\", \"ip-adresse\":\"422.997.533.849\", \n",
    "            \"content\":\" Computer Tomographie - Seit Jahrzehnten führen wir bahnbrechende CT-Systeme und Technologien ein – deshalb sind wir als innovativer Marktführer auf diesem Gebiet anerkannt. Unser Portfolio zeigt hervorragende Argumente in Bezug auf künstliche Intelligenz, niedrige Dosis, Workflow-Optimierung und Bildqualität. Auf diese Weise können Sie Ihren Wert steigern und in der CT ganz vorne mit dabei sein.\"}\n",
    "s9 = {\"domain\":\"www.mathematica-didactica.com\", \"ip-adresse\":\"236.234.745.449\", \n",
    "            \"content\":\"Das Pizzatheorem  - Ein Pizzamesser besteht aus n sich in gleichen Winkelabständen kreuzenden Klingen.  Problem:  Kann  man  eine  mit  einem  solchen  Messer  zerlegte  Pizza  gerecht  unter  zwei  Leuten  aufteilen,  wenn  das  Zentrum  des  Messers  nicht  auf  den  Pizzamittelpunkt  ge-setzt  wird?  Das  Pizzatheorem  beantwortet  die  Frage.\"}\n",
    "s10 = {\"domain\":\"www.chemie.de\", \"ip-adresse\":\"123.111.234.255\", \n",
    "            \"content\":\"Das Haber-Bosch-Verfahren ist ein Verfahren zur synthetischen Herstellung von Ammoniak aus den Elementen Stickstoff und Wasserstoff. Es ist benannt nach dessen Entwicklern, den deutschen Chemikern Fritz Haber (1868–1934) und Carl Bosch (1874–1940).\"}\n",
    "s11 = {\"domain\":\"www.umweltinstitut.org\", \"ip-adresse\":\"479.548.564.941\", \n",
    "            \"content\":\"Das große Insektensterben - Den einen Grund für das Insektensterben gibt es nicht. Die im folgenden genannten Faktoren wirken alle gleichzeitig auf die Tiere. Unter diesem Stress brechen sie immer öfter zusammen. Die meisten Gefahren für Bienen, Hummeln, Schmetterlinge und andere Insekten sind menschengemacht. Wenn wir das große Insektensterben noch aufhalten wollen, müssen wir weg von der industriellen Landwirtschaft mit ihren monotonen Agrarwüsten und dem großflächigen Einsatz von giftigen Chemikalien.\"}\n",
    "\n",
    "mini_www = [s1, s2, s3, s4, s5, s6, s7, s8, s9, s10, s11]\n",
    "print(mini_www[:2])"
   ]
  },
  {
   "cell_type": "markdown",
   "metadata": {},
   "source": [
    "## 2. Implementierung einer \"Brute-Force\" Suche\n",
    "\n",
    "Zunächst wollen wir naiv (brute-force) nach einem Wort in den Webseiten des Mini-WWW suchen. Dazu iterieren wir durch alle Seiten im Mini-WWW. Jeder Seiteninhalt ist ein langer string. Diesen teilen wir mit der 'split'-Funktion bei jedem Leerzeichen. So entsteht eine Liste mit Wörtern. Nun vergleichen wir jedes Wort mit dem Suchwort. Falls das Suchwort entdeckt wird, nehmen wir die Webseite auf die Ergebnisliste."
   ]
  },
  {
   "cell_type": "code",
   "execution_count": null,
   "metadata": {},
   "outputs": [],
   "source": [
    "def brute_force_suche(suchwort, www):\n",
    "    ergebnisliste=[]\n",
    "\n",
    "    for seite in www:\n",
    "        woerter_liste = list(seite[\"content\"].split(\" \"))\n",
    "        for wort in woerter_liste:\n",
    "            if suchwort == wort:\n",
    "                ergebnisliste.append(seite[\"domain\"])\n",
    "            \n",
    "    print(\"Suchwort: \"+suchwort+\" ist in folgenden Seiten enthalten\")\n",
    "    print(ergebnisliste)\n",
    "    return ergebnisliste\n",
    "\n",
    "ergebnis = brute_force_suche(\"Computer\", mini_www)"
   ]
  },
  {
   "cell_type": "markdown",
   "metadata": {},
   "source": [
    "**Optionale Miniaufgabe**: Probiert ein paar Wörter aus, die für euch im Zusammenhang mit MINT stehen. Kommen Treffer, die ihr erwartet? Welche Probleme hat die Implementierung noch, die euch auffallen?"
   ]
  },
  {
   "cell_type": "code",
   "execution_count": null,
   "metadata": {},
   "outputs": [],
   "source": [
    "# TESTET DIE NAIVE SUCHE HIER UND DOKUMENTIERT PROBLEME\n",
    "\n"
   ]
  },
  {
   "cell_type": "markdown",
   "metadata": {},
   "source": [
    "## 3. Implementierung mit QuickSort und BinarySearch\n",
    "\n",
    "Wir können aber auch Sortier- und Suchalgorithmen wie QuickSort und BinarySearch nutzen, um die Suche effizienter zu gestalten. Dazu sortieren wir zunächst den Inhalt der Websiten und speichern ein sortiertes Mini-WWW. Selbst wenn wir mehrere Suchanfragen starten, bleibt die Sortierung bestehen und muss nicht erneut durchgeführt werden. In dem sortierten Mini-WWW suchen wir nun nach unserem Suchwort."
   ]
  },
  {
   "cell_type": "code",
   "execution_count": null,
   "metadata": {},
   "outputs": [],
   "source": [
    "import copy\n",
    "\n",
    "def quicksort(lst):\n",
    "    if not lst:\n",
    "        return []\n",
    "    return (quicksort([x for x in lst[1:] if x <  lst[0]]) + [lst[0]] + \n",
    "            quicksort([x for x in lst[1:] if x >= lst[0]]))\n",
    "\n",
    "def www_sortieren(www):\n",
    "    www_sortiert = copy.deepcopy(www)\n",
    "    for seite in www_sortiert:\n",
    "        woerter_liste = list(seite[\"content\"].split(\" \"))\n",
    "        seite[\"content\"] = quicksort(woerter_liste)    \n",
    "    return www_sortiert\n",
    "\n",
    "mini_www_sortiert = www_sortieren(mini_www)"
   ]
  },
  {
   "cell_type": "code",
   "execution_count": null,
   "metadata": {},
   "outputs": [],
   "source": [
    "def effiziente_suche(suchwort, www):\n",
    "    ergebnisliste=[]\n",
    "    for seite in www:\n",
    "        such_anfang = 0\n",
    "        such_ende = len(seite[\"content\"]) - 1\n",
    "        while such_anfang <= such_ende:\n",
    "            mitte = int((such_anfang + such_ende) / 2)\n",
    "            if suchwort < seite[\"content\"][mitte]:\n",
    "                such_ende = mitte - 1\n",
    "            elif suchwort > seite[\"content\"][mitte]:\n",
    "                such_anfang = mitte + 1\n",
    "            else:\n",
    "                ergebnisliste.append(seite[\"domain\"])\n",
    "                break\n",
    "                \n",
    "            \n",
    "    print(\"Suchwort: \"+suchwort+\" ist in folgenden Seiten enthalten\")\n",
    "    print(ergebnisliste)\n",
    "    return ergebnisliste\n",
    "\n",
    "\n",
    "ergebnis = effiziente_suche(\"Computer\", mini_www_sortiert)"
   ]
  },
  {
   "cell_type": "markdown",
   "metadata": {},
   "source": [
    "**Optionale Miniaufgaben**\n",
    "\n",
    "- Probiert ein paar weitere Wörter aus. Welche Probleme hat die Implementierung noch, die euch auffallen?\n",
    "- Nutzt eure Implementierung von BubbleSort oder QuickSort, um die Webseiteninhalte zu sortieren. Vergleicht die Laufzeiten eurer Implementierung mit der Gegebenen, wie unter 4.\n",
    "- Nutzt Google und versucht die gegebene Funktion 'quicksort' in einen Pseudocode zu übersetzen."
   ]
  },
  {
   "cell_type": "code",
   "execution_count": null,
   "metadata": {},
   "outputs": [],
   "source": [
    "# PROBIERT EUCH HIER AN DEN MINIAUFGABEN\n",
    "\n"
   ]
  },
  {
   "cell_type": "markdown",
   "metadata": {},
   "source": [
    "## 4. Vergleich der Laufzeit der beiden Suchen\n",
    "\n",
    "Nun stellt sich natürlich die Frage was es bringt, einen komplizierten Algorithmus zu nutzen, anstatt einfach alle Wörter zu durchsuchen. Der Hauptgrund ist die kürzere Rechenzeit bzw. die geringere Laufzeitkomplexität, wie die Informatikerinnen sagen. Also testen wir mal an unseren Beispielen, ob das wirklich stimmt. \n",
    "\n",
    "Dazu nutzen wir das Python package 'timeit' und starten eine Uhr vor dem Funktionsaufruf und nehmen die Differenz zur Zeit nach dem Funktionsaufruf als Laufzeit. "
   ]
  },
  {
   "cell_type": "code",
   "execution_count": null,
   "metadata": {},
   "outputs": [],
   "source": [
    "import timeit\n",
    "\n",
    "starttime = timeit.default_timer()\n",
    "ergebnis = brute_force_suche(\"Computer\", mini_www)\n",
    "print(\"Die Laufzeit für die naive Suche ist:\", timeit.default_timer() - starttime)\n",
    "\n",
    "starttime = timeit.default_timer()\n",
    "mini_www_sortiert = www_sortieren(mini_www)\n",
    "print(\"Die Laufzeit für das Sortieren mit QuickSort:\", timeit.default_timer() - starttime)\n",
    "\n",
    "starttime = timeit.default_timer()\n",
    "ergebnis = effiziente_suche(\"Computer\", mini_www_sortiert)\n",
    "print(\"Die Laufzeit für die effiziente Suche ist:\", timeit.default_timer() - starttime)"
   ]
  },
  {
   "cell_type": "markdown",
   "metadata": {},
   "source": [
    "## 5. Diskussion\n",
    "\n",
    "Hier ist der Unterschied zwischen dem naiven Suchen und dem Suchen mit QuickSort noch nicht sonderlich groß, da das Mini-WWW, welches wir betrachten auch nur wenige Seiten enthält. Für größere Datenmengen wird es umso wichtiger effiziente Algorithmen zu nutzen anstatt alle Möglichkeiten auszuprobieren. Sich solche effizienten Algorithmen auszudenken ist ein wichtiger Teil der Informatik.\n",
    "\n",
    "Google nutzt natürlich noch viele weitere Algorithmen, damit du in wenigen Millisekunden eine gute Antwort auf deine Suchanfrage bekommst. Was glaubst du was weitere Möglichkeiten wären, um Suchen zu beschleunigen? Was könnten Nachteile sein?"
   ]
  }
 ],
 "metadata": {
  "kernelspec": {
   "display_name": "Python 3",
   "language": "python",
   "name": "python3"
  },
  "language_info": {
   "codemirror_mode": {
    "name": "ipython",
    "version": 3
   },
   "file_extension": ".py",
   "mimetype": "text/x-python",
   "name": "python",
   "nbconvert_exporter": "python",
   "pygments_lexer": "ipython3",
   "version": "3.7.6"
  }
 },
 "nbformat": 4,
 "nbformat_minor": 4
}
