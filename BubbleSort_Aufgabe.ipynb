{
  "nbformat": 4,
  "nbformat_minor": 0,
  "metadata": {
    "colab": {
      "name": "BubbleSort.ipynb",
      "provenance": []
    },
    "kernelspec": {
      "name": "python3",
      "display_name": "Python 3"
    }
  },
  "cells": [
    {
      "cell_type": "markdown",
      "metadata": {
        "id": "voQdiBHEa8R_"
      },
      "source": [
        "# Bubble Sort\n",
        "\n",
        "Grundlegendes Ziel der Sortieralgorithmen ist das Sortieren einer Liste von Elementen, z.B. Zahlen (integer) oder Wörter (strings) gemäß eines zuvor definierten Kriteriums. Im Falle von Zahlen könnte dies zum Besipiel in aufsteigender Reihenfolge, oder im Falle von Wörter in alphabetischer Reihenfolge sein.\n",
        "\n",
        "Beim Bubble Sort-Algorithmus wird dieses Ziel erreicht, in dem die zu sortierende Liste immer wieder von links nach rechts durchlaufen wird und durch paarweisen Vergleich sortiert wird, bis die gesamte Liste sortiert ist.\n",
        "\n",
        "Dabei verkleinert sich der Bereich, der zu paarweisen Vergleich betrachtet wird, stetig. Mit jedem Durchlauf, muss ein Element weniger am Ende der Liste betrachtet werden. Somit wird die Liste zum sortieren immer genauso so oft durchlaufen, wie sie lang ist: eine LSite mit 8 Elemente wird 8 mal durchlaufen.\n",
        "\n",
        "Der paarweise Vergleich in jedem Durchlauf erfolgt folgendermaßen:\n",
        "\n",
        "\n",
        "*   Von Beginn(linkes Element) bis zum Ende des Suchbereichs\n",
        "*   wird jedes Element mit seinem nächsten Nachbarelement zur Rechten verglichen:\n",
        "\n",
        ">  *  ist das Element kleiner, kann es links stehen bleiben und wir wandern zum nächsten Element für den nächsten paarweisen Vergleich\n",
        ">  *  ist das Element größer, so muss es gemäß der Sortierung den Platz mit seinem Nachbarelement tauschen \n",
        "\n",
        "\n",
        "Ziel ist es, eine Liste aus Zahlen oder Wörtern in aufsteigender Reihenfolge bzw. alphabetsich zu sortieren.\n",
        "\n",
        "Tipps in Python:\n",
        "\n",
        "\n",
        "*   **Liste erstellen**\n",
        "\n",
        "\n",
        "*   **Listenelement bearbeiten**\n",
        "\n",
        " Zum Beispiel zum Festelegen und Auslesen des Pivot-Elements/Vergleichsemelemnents\n",
        "\n",
        "\n",
        "*   **Vergleich zweier Elemente** \n",
        "\n",
        "*   **Listen durchlaufen** \n",
        "\n",
        "\n",
        "\n"
      ]
    },
    {
      "source": [
        "# Pseudocode: \n",
        "\n",
        "1) Definere eine Funktion, der die zu sortierende Liste übergibst.\n",
        "    Der Rückgabewerte ist die sortierte Liste.\n",
        "\n",
        "2) In der Funktion, definiere zunächst die folgenden Variablen: \n",
        "\n",
        "    - Eine Hilfsvariable, die anzeigt, ob Elemente getauscht wurden. \n",
        "      Anhand dieser Variable können wir bestimmen ob im letzten Durchlauf der Liste noch Elemente getauscht wurden.\n",
        "\n",
        "    - Eine Variable, die die Anzahl der bereits sortierten Elemente beschreibt. \n",
        "      Zu Beginn des Programms soltte diese Variable mit dem Wert 0 initialisert werden. \n",
        "\n",
        "\n",
        "3) Durchlaufe die zu sortierende Liste so lange, bis keine Elemente mehr getauscht werden müssen. Du kannst beispielsweise die Liste solange der Durchlaufen, bis die Hilfsvariable den Wert 0 erreicht. (**Tipp**: *while-Schleife*) \n",
        "    \n",
        "    a) Setze dazu *zunächst* die Hilfsvariable zum Anzeigen des Elemententausches auf 0\n",
        "    \n",
        "    b) Durchlaufe nun die Liste von links bis zum Ende des noch zu sortierenden Bereichs (**Tipp**: *for-Schleife*) \n",
        "       Das Ende des zu sortierenden Elementes \n",
        "    \n",
        "        - prüfe ob das aktuell betrachtete Element (`aktueller_index`) größer als sein \n",
        "            rechtes Nachbarelement (`aktueller_index + 1`) ist\n",
        "        - wenn ja: tausche die beiden Einträge\n",
        "          1) führe eine Hilfsvariable ein, der du das Nachbarelement (aktueller_index) zuweist \n",
        "          2) Überschreibe den Listeneintrag an der Position des Nachbarelementes mit dem aktuellen Listenelement(aktueller_index)\n",
        "          3) Überschreibe dann den aktuell betrachteten Listeneintrag (aktueller_index) mit der Hilfvariable\n",
        "          4) Wichtig!: Die Hilfsvariable zum Anzeigen des Elemententausches sollte nun um 1 erhöht werden\n",
        "        - wenn nein: gehe direkt zum nächsten Listenelement ('continue')\n",
        "\n",
        "\n",
        "  4) Nachdem die Liste einmal von links bis zum Ende des zu sortierenden Bereichs gelaufen ist, wurde ein weiteres Element\n",
        "     durch den Tausch korrekt einsortiert.\n",
        "     Nun kannst du also den Wert der Hilfsvariable, in der die Anzahl der bereits sortierten Elemente gespeichert ist, um 1           erhöhen.\n",
        "     Somit ist der Wert der Hilfsvariable nicht mehr 0 und die Liste wird ein weiteres Mal durchlaufen. Sobald während des            Listendurchlaufs keine Elemente mehr getauscht werden und die Liste somit sortiert ist, wird die Liste nicht noch einmal         durchlaufen.\n",
        "\n",
        "    \n",
        "5) Nun kannst du die sortierte Liste zurückgeben"
      ],
      "cell_type": "markdown",
      "metadata": {
        "id": "egGMpZw0dPfu"
      }
    },
    {
      "source": [
        "Mit dieser Liste kannst Du dein Sortier-Programm testen:"
      ],
      "cell_type": "markdown",
      "metadata": {}
    },
    {
      "cell_type": "code",
      "metadata": {
        "colab": {
          "base_uri": "https://localhost:8080/"
        },
        "id": "rH2aJ2feWr46",
        "outputId": "d9ddcd4a-4030-4ba6-a9cf-5055f841563f"
      },
      "source": [
        "test_liste = [64, 34, 25, 12, 22, 11, 90] \n",
        "   \n",
        "sortierte_test_liste = bubblesort(test_liste) \n",
        "   \n",
        "print (\"Sortierte Liste :\", sortierte_test_liste) \n"
      ],
      "execution_count": null,
      "outputs": [
        {
          "output_type": "stream",
          "text": [
            "Sortierte Liste : [11, 12, 22, 25, 34, 64, 90]\n"
          ],
          "name": "stdout"
        }
      ]
    }
  ]
}