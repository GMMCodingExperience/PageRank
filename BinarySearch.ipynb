{
 "cells": [
  {
   "cell_type": "markdown",
   "metadata": {
    "id": "ZIk0QoYS3b7r"
   },
   "source": [
    "# Binary Search\n",
    "\n",
    "Um in einer Liste von Zahlen oder Wörtern nach einem bestimmten Element effizient zu suchen, benötigen wir eine sortierte Liste, beispielsweise sortiert nach aufsteigenden Zahlen oder in alphabetischer Reihenfolge. \n",
    "\n",
    "Mit Hilfe der sortierten Liste können wir unseren Suchraum nun gezielt einschränken (*Teile & Herrsche*). \n",
    "\n",
    "> Wenn das Suchelement größer als das Element in der Mitte der Liste ist, wird nur noch im Teil rechts der Mitte weitergesucht\n",
    "\n",
    "> Wenn das Suchelement kleiner als das Element in der Mitte der Liste ist, wird nur noch im Teil links der Mitte weitergesucht. \n",
    "\n",
    "Da wir von einer sortierten Liste ausgehen, können wir sicher sein, dass wir nur noch in einem Teil der Liste weitersuchen müssen. So verkleinern wir unseren Suchraum so lange, bis das gesuchte Element gefunden ist. Oder wir können schlussfolgern, dass das gesuchte Element gar nicht in der Liste enthalten ist.\n",
    "\n",
    "\n"
   ]
  },
  {
   "cell_type": "markdown",
   "metadata": {},
   "source": [
    "## Python-Tipps zum Umgang mit Listen:\n",
    "\n",
    "\n",
    "*   **Liste erstellen**\n",
    "    ```Python\n",
    "    liste = [1, 2, 5, 3]\n",
    "    ```\n",
    "*  **Länge einer Liste**\n",
    "    ```Python\n",
    "    print(len(liste)) \n",
    "    ```\n",
    "    liefert `4`\n",
    "\n",
    "*   **Listenelement bearbeiten**\n",
    "    * Das erste Listenelement ansprechen:\n",
    "        ```Python\n",
    "        print(liste[0])\n",
    "        ```\n",
    "        liefert `1`\n",
    "\n",
    "    * Das letzte Listenlelement:\n",
    "        ```Python\n",
    "        print(liste[len(liste)-1])\n",
    "        ```\n",
    "        liefert `3`\n",
    "\n",
    "    * Ein Listenelement überschreiben:\n",
    "        ```Python\n",
    "        liste[1] = 10\n",
    "        print(liste)\n",
    "        ```\n",
    "        liefert `[1, 10, 5, 3]`\n",
    "\n",
    "\n",
    "*   **Vergleich zweier (benachbarter) Elemente** \n",
    "    ```Python\n",
    "    vergleich = liste[1] < liste[2]\n",
    "    print(vergleich)\n",
    "    ```\n",
    "    liefert `True`, denn `10` is größer als `5`\n",
    "\n",
    "*   **Listenelement tauschen** \n",
    "    ```Python\n",
    "    hilfs_variable = liste[2]\n",
    "    liste[2] = liste[1]\n",
    "    liste[1] = hilfs_variable\n",
    "    print(liste)\n",
    "    ```\n",
    "    liefert `[1, 5, 10, 3]`\n",
    "    "
   ]
  },
  {
   "cell_type": "markdown",
   "metadata": {
    "id": "30k38De59mXO"
   },
   "source": [
    "## Pseudocode \n",
    "\n",
    "Definiere Dir die Suchfunktion mit den folgenden Übergabeparametern:\n",
    "  - die zu durchsuchende Liste\n",
    "  - das gesuchtes Element\n",
    "Der Rückgabewert der Funktion sollte der Index (Stelle) des gesuchten Elementes in der Liste sein.\n",
    "\n",
    "\n",
    "In der Funktion kannst du die folgenden Schritte programmieren:\n",
    "\n",
    "1) Definiere zunächst eine Variable für den Suchanfang in der Liste ganz links sowie eine Variable für das Suchende ganz rechts.  \n",
    "   Tipp: Beachte hier, dass wir für den Index des letzten Elementes in der Liste bei \"0\" anfangen zu zählen (len(liste)-1)\n",
    "\n",
    "2) Solang der Index des Suchanfangs kleiner gleich dem Suchende ist (Tipp: while-Schleife), durchsuchen wir die Liste               folgendermaßen:\n",
    "   (Sobald sich Suchanfang und Suchenende treffen, haben wir die komplette Liste durchsucht)\n",
    "\n",
    "Während des Listen-Durchlaufs:\n",
    "\n",
    "*  a) Setze die Mitte des zu durchsuchenden Listenbereichs, wobei wir bei einer ungeraden Anzahl von Elementen in der Liste            zur nächsten ganzen Zahl abrunden \n",
    "    \n",
    "* b) Überprüfe nun: \n",
    "      \n",
    "  * WENN gesuchte Element kleiner als das Element in der Mitte ist,\n",
    "    so wird das Suchende so angepasst, dass nur noch links von der Mitte weitergesucht wird\n",
    "\n",
    "  * WENN das gesuchte Element größer als das Element in der Mitte ist,\n",
    "    so wird der Suchanfang so verschoben, dass nur noch rechts von der Mitte weiter gesucht wird\n",
    "\n",
    "  * SONST: sollte das gesuchte Element dem Element in der Mitte entsprechen, ist die Suche erfolgreich\n",
    "    und der Index der Mitte kann nun als Ergbenis zurückgegeben werde\n",
    "\n",
    "  Wenn das Element noch nicht gefunden wurde, werden die Schritte solange durchgeführt, bis sich Suchanfang und Suchende           treffen. \n",
    "  \n",
    "3) Sollte das gesuchte Element nicht in der Liste gefunden werden, geben wir zum Schluss eine entsprechende Meldung zurück. "
   ]
  },
  {
   "cell_type": "code",
   "execution_count": null,
   "metadata": {},
   "outputs": [],
   "source": [
    "# Nun bist du dran - CODE HIER!\n",
    "\n",
    "# Tipp: Orientiere dich Schritt für Schritt am Pseudocode, beginne damit deine Funktion zu benennen\n",
    "# und anzugeben was sie für Argumente annehmen soll\n",
    "\n"
   ]
  },
  {
   "cell_type": "code",
   "execution_count": null,
   "metadata": {},
   "outputs": [],
   "source": [
    "# Du hast deine Binary Search Funktion geschrieben? - Dann teste sie hier\n",
    "\n",
    "# 1. Definiere eine sortierte Zahlenliste \n",
    "\n",
    "# 2. Nutze deine Funktion, um die Stelle wo eine Zahl in der Liste steht zu finden. \n",
    "# Klappt es auch wenn das Element nicht enthalten ist?"
   ]
  }
 ],
 "metadata": {
  "colab": {
   "collapsed_sections": [],
   "name": "BinarySearch.ipynb",
   "provenance": []
  },
  "kernelspec": {
   "display_name": "Python 3",
   "language": "python",
   "name": "python3"
  },
  "language_info": {
   "codemirror_mode": {
    "name": "ipython",
    "version": 3
   },
   "file_extension": ".py",
   "mimetype": "text/x-python",
   "name": "python",
   "nbconvert_exporter": "python",
   "pygments_lexer": "ipython3",
   "version": "3.7.6"
  }
 },
 "nbformat": 4,
 "nbformat_minor": 1
}
