{
  "nbformat": 4,
  "nbformat_minor": 0,
  "metadata": {
    "colab": {
      "name": "QuickSort.ipynb",
      "provenance": []
    },
    "kernelspec": {
      "name": "python3",
      "display_name": "Python 3"
    }
  },
  "cells": [
    {
      "cell_type": "markdown",
      "metadata": {
        "id": "rXD94vak2afD"
      },
      "source": [
        "**QuickSort**\n",
        "\n",
        "Grundlegendes Ziel der Sortieralgorithmen ist das Sortieren einer Liste von Elementen, z.B. Zahlen (integer) oder Wörter (strings) gemäß einer zuvor definierten Kriteriums. Im Falle von Zahlen könnte dies zum Besipiel in aufsteigender Reihenfolge, oder im Falle von Wörter in alphabetischer Reihenfolge sein. \n",
        "\n",
        "Beim QuickSort-Algorithmus wird dieses Ziel erreicht, indem die zu sortierende Liste in immer kleinere Teilprobleme aufgeteilt werden, die einfacher zu lösen sind. Schließlich werden die gelösten Teilprobleme wieder zusammengefügt.\n",
        "\n",
        "Lasst uns nun gemeinsam den Sortieralgorithmus QuickSort in Python programmieren. Hier folgen ein paar Tipps mit Code-Schnipsel, die euch beim Programmieren helfen können. \n",
        "\n",
        "Ziel ist es, eine Liste aus Zahlen oder Wörtern in aufsteigender Reihenfolge bzw. alphabetsich zu sortieren. \n",
        "\n",
        "Tipps in Python:\n",
        "\n",
        "\n",
        "*   **Liste erstellen**\n",
        "\n",
        "\n",
        "*   **Listenelement bearbeiten**\n",
        "\n",
        " Zum Beispiel zum Festelegen und Auslesen des Pivot-Elements/Vergleichsemelemnents\n",
        "\n",
        "\n",
        "*   **Vergleich zweier Elemente** \n",
        "\n",
        "*   **Listen durchlaufen** \n",
        "\n",
        "*   **Listen erweitern** \n",
        "\n",
        "*   **Funktionen in Python** (Argumente, Rückgabewerte)\n",
        "\n",
        "  Eine Funktion in Python ist eine für sich stehende Einheit, die wiederholt ausgeführt bzw. aufgerufen werden kann. \n",
        "\n",
        "\n",
        "*   **Code testen** \n",
        "\n",
        "  Beim Programmieren spielt das Testen des Codes eine wichtige Rolle. Softwareentwickler schreiben dazu viele kleine sogenannte \"Unit-Test\", mit denen die Funktionalität des Codes geprüft wird. In unserem Fall wollen wir zum Beispiel testen, ob eine unsortierte Liste von Namen durch den Algorithmus alphabetisch sortiert wird.\n",
        "\n",
        "  `klasse_10a = ['test1', 'test2']` \n",
        "\n",
        "\n",
        "\n",
        "Aufgabe: Schreibe ein oder mehrere Funktionen in Python, die aus einer unsortieren Liste von Zahlen oder Wörtern eine sortiere List generieren und diese ausgeben."
      ]
    },
    {
      "cell_type": "markdown",
      "metadata": {
        "id": "Mx4L0OJn2m9A"
      },
      "source": [
        "Rekursive Implementierung"
      ]
    },
    {
      "cell_type": "code",
      "metadata": {
        "id": "xWlO-w8W7kdO"
      },
      "source": [
        "# Pseudocode\n",
        "\n",
        "# Definiere den \"Index_von_links\" am Anfang der Liste\n",
        "# Definiere den \"Index_von_rechts\" am Ende der Liste\n",
        "# Definiere das Vergleichselement\n",
        "# Sortiere die Liste so lange, bis sich \"Index_von_links\" und \"Index_von_rechts\" treffen\n",
        "    # Erhöhe den \"Index_von_links\" solange das entsprechende Listenelelement kleiner als das Vergleichselement ist\n",
        "    # Veringere den \"Index_von_rechts\" solange das entsprechende Listenelelement größer als das Vergleichselement ist\n",
        "\n",
        "    # Sobald diese Bedingungen nicht mehr erfüllt sind (Indizes werden nicht mehr erhöht/verringert)\n",
        "    # WENN der \"Index_von_links\" kleiner gleich dem \"Index_von_rechts\" ist\n",
        "      # dann tausche die Listenelemente\n",
        "      # und erhöhe/verringere wie gewohnt die Indizes\n",
        "\n",
        "# Sobald sich die Inidzes treffen/überholen, rufe die QuickSort-Funtion für die sich ergebenden Teilprobleme auf\n",
        "# Teilproblem 1: Liste vom Anfang bis zum \"Index_von_rechts\" sortieren\n",
        "# Teilproblem 2: Liste vom \"Index_von_links\" bis zum Ende sortieren"
      ],
      "execution_count": null,
      "outputs": []
    },
    {
      "cell_type": "code",
      "metadata": {
        "id": "oK-0U9w52n05"
      },
      "source": [
        "import random\n",
        "\n",
        "def quicksort(liste, anfang, ende):\n",
        "  \n",
        "    if anfang >= ende:\n",
        "        return \n",
        "    # Definiere den \"Index_von_links\" am Anfang der Liste\n",
        "    index_von_links = anfang\n",
        "    # Definiere den \"Index_von_rechts\" am Ende der Liste\n",
        "    index_von_rechts = ende\n",
        "    # Definiere das Vergleichselement\n",
        "    vergleichselement = liste[random.randint(anfang, ende)]\n",
        "\n",
        "    # Sortiere die Liste so lange, bis sich \"Index_von_links\" und \"Index_von_rechts\" treffen\n",
        "    while index_von_links <= index_von_rechts:\n",
        "        \n",
        "        # Erhöhe den \"Index_von_links\" solange das entsprechende Listenelelement kleiner als das Vergleichselement ist\n",
        "        while liste[index_von_links] < vergleichselement:\n",
        "            index_von_links = index_von_links + 1\n",
        "        \n",
        "        # Veringere den \"Index_von_rechts\" solange das entsprechende Listenelelement größer als das Vergleichselement ist\n",
        "        while liste[index_von_rechts] > vergleichselement:\n",
        "            index_von_rechts = index_von_rechts - 1\n",
        "\n",
        "        # Sobald diese Bedingungen nicht mehr erfüllt sind (Indizes werden nicht mehr erhöht/verringert)\n",
        "        # und der \"Index_von_links\" kleiner gleich dem \"Index_von_rechts\" ist\n",
        "        # dann tausche die Listenelemente\n",
        "        # und erhöhe/verringere wie gewohnt die Indizes\n",
        "        if index_von_links <= index_von_rechts:\n",
        "            liste[index_von_links], liste[index_von_rechts] = liste[index_von_rechts], liste[index_von_links]\n",
        "            index_von_links, index_von_rechts = index_von_links + 1, index_von_rechts - 1\n",
        "    # Sobald die Inidzes sich treffen/überholen, rufe die QuickSort-Funtion für die sich ergebenden Teilprobleme auf\n",
        "      # Teilproblem 1: Liste vom Anfang bis zum \"Index_von_rechts\"\n",
        "      # Teilproblem 2: Liste vom \"Index_von_links\" bis zum Ende\n",
        "    quicksort(liste, anfang, index_von_rechts)\n",
        "    quicksort(liste, index_von_links, ende)\n",
        "  "
      ],
      "execution_count": null,
      "outputs": []
    },
    {
      "cell_type": "code",
      "metadata": {
        "colab": {
          "base_uri": "https://localhost:8080/"
        },
        "id": "R0tNZ32i2rXD",
        "outputId": "d8b7cdc6-d7dc-49b4-b83b-7af0d1c01169"
      },
      "source": [
        "arr = [10, 7, 8, 9, 1, 5] \n",
        "n = len(arr) \n",
        "quicksort(arr, 0, n-1) \n",
        "print(\"Sorted array is:\") \n",
        "print(arr)"
      ],
      "execution_count": null,
      "outputs": [
        {
          "output_type": "stream",
          "text": [
            "Sorted array is:\n",
            "[1, 5, 7, 8, 9, 10]\n"
          ],
          "name": "stdout"
        }
      ]
    }
  ]
}
