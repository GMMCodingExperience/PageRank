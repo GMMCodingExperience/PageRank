{
 "cells": [
  {
   "cell_type": "markdown",
   "metadata": {},
   "source": [
    "# QuickSort\n",
    "\n",
    "Grundlegendes Ziel der Sortieralgorithmen ist das Sortieren einer Liste von Elementen, z.B. Zahlen (integer) oder Wörter (strings) gemäß einer zuvor definierten Kriteriums. Im Falle von Zahlen könnte dies zum Beispiel in aufsteigender Reihenfolge, oder im Falle von Wörter in alphabetischer Reihenfolge sein. \n",
    "\n",
    "Beim QuickSort-Algorithmus wird dieses Ziel erreicht, indem die zu sortierende Liste in immer kleinere Teilprobleme aufgeteilt werden, die einfacher zu lösen sind. Schließlich werden die gelösten Teilprobleme wieder zusammengefügt.\n",
    "\n",
    "Lasst uns nun gemeinsam den Sortieralgorithmus QuickSort in Python programmieren. Hier folgen ein paar Tipps mit Code-Schnipseln, die euch beim Programmieren helfen können. \n",
    "\n",
    "Ziel ist es, eine Liste aus Zahlen oder Wörtern in aufsteigender Reihenfolge bzw. alphabetisch zu sortieren. "
   ]
  },
  {
   "cell_type": "markdown",
   "metadata": {
    "id": "rXD94vak2afD"
   },
   "source": [
    "## Python-Tipps zum Umgang mit Listen:\n",
    "\n",
    "\n",
    "*   **Liste erstellen**\n",
    "    ```Python\n",
    "    liste = [1, 2, 5, 3]\n",
    "    ```\n",
    "*  **Länge einer Liste**\n",
    "    ```Python\n",
    "    print(len(liste)) \n",
    "    ```\n",
    "    liefert `4`\n",
    "\n",
    "*   **Listenelement bearbeiten**\n",
    "    * Das erste Listenelement ansprechen:\n",
    "        ```Python\n",
    "        print(liste[0])\n",
    "        ```\n",
    "        liefert `1`\n",
    "\n",
    "    * Das letzte Listenelement:\n",
    "        ```Python\n",
    "        print(liste[len(liste)-1])\n",
    "        ```\n",
    "        liefert `3`\n",
    "\n",
    "    * Ein Listenelement überschreiben:\n",
    "        ```Python\n",
    "        liste[1] = 10\n",
    "        print(liste)\n",
    "        ```\n",
    "        liefert `[1, 10, 5, 3]`\n",
    "\n",
    "\n",
    "*   **Vergleich zweier (benachbarter) Elemente** \n",
    "    ```Python\n",
    "    vergleich = liste[1] < liste[2]\n",
    "    print(vergleich)\n",
    "    ```\n",
    "    liefert `True`, denn `10` is größer als `5`\n",
    "\n",
    "*   **Listenelement tauschen** \n",
    "    ```Python\n",
    "    hilfs_variable = liste[2]\n",
    "    liste[2] = liste[1]\n",
    "    liste[1] = hilfs_variable\n",
    "    print(liste)\n",
    "    ```\n",
    "    liefert `[1, 5, 10, 3]`"
   ]
  },
  {
   "cell_type": "markdown",
   "metadata": {
    "id": "Mx4L0OJn2m9A"
   },
   "source": [
    "## Rekursive Implementierung"
   ]
  },
  {
   "cell_type": "code",
   "execution_count": null,
   "metadata": {
    "id": "xWlO-w8W7kdO"
   },
   "outputs": [],
   "source": [
    "# Pseudocode\n",
    "\n",
    "# Definiere den \"Index_von_links\" am Anfang der Liste\n",
    "# Definiere den \"Index_von_rechts\" am Ende der Liste\n",
    "# Definiere das Vergleichselement\n",
    "# Sortiere die Liste so lange, bis sich \"Index_von_links\" und \"Index_von_rechts\" treffen\n",
    "    # Erhöhe den \"Index_von_links\" solange das entsprechende Listenelement kleiner als das Vergleichselement ist\n",
    "    # Verringere den \"Index_von_rechts\" solange das entsprechende Listenelement größer als das Vergleichselement ist\n",
    "\n",
    "    # Sobald diese Bedingungen nicht mehr erfüllt sind (Indizes werden nicht mehr erhöht/verringert)\n",
    "    # WENN der \"Index_von_links\" kleiner gleich dem \"Index_von_rechts\" ist\n",
    "      # dann tausche die Listenelemente\n",
    "      # und erhöhe/verringere wie gewohnt die Indizes\n",
    "\n",
    "# Sobald sich die Indizes treffen/überholen, rufe die QuickSort-Funktion für die sich ergebenden Teilprobleme auf\n",
    "# Teilproblem 1: Liste vom Anfang bis zum \"Index_von_rechts\" sortieren\n",
    "# Teilproblem 2: Liste vom \"Index_von_links\" bis zum Ende sortieren"
   ]
  },
  {
   "cell_type": "code",
   "execution_count": null,
   "metadata": {
    "id": "oK-0U9w52n05"
   },
   "outputs": [],
   "source": [
    "import random\n",
    "\n",
    "def quicksort(liste, anfang, ende):\n",
    "    \"\"\"\n",
    "    Diese Funktion implementiert Quick Sort\n",
    "    \n",
    "    parameter liste: unsortierte Liste (list)\n",
    "    parameter anfang: Anfangsindex (int)\n",
    "    parameter ende: Endindex (int)\n",
    "    return: sortierte_liste\n",
    "    \"\"\"\n",
    "    sortierte_liste = None\n",
    "    \n",
    "    if anfang >= ende:\n",
    "        sortierte_liste = liste\n",
    "        return sortierte_liste\n",
    "    # Definiere den \"Index_von_links\" am Anfang der Liste\n",
    "    index_von_links = anfang\n",
    "    # Definiere den \"Index_von_rechts\" am Ende der Liste\n",
    "    index_von_rechts = ende\n",
    "    # Definiere das Vergleichselement\n",
    "    vergleichselement = liste[random.randint(anfang, ende)]\n",
    "\n",
    "    # Sortiere die Liste so lange, bis sich \"Index_von_links\" und \"Index_von_rechts\" treffen\n",
    "    while index_von_links <= index_von_rechts:\n",
    "        \n",
    "        # Erhöhe den \"Index_von_links\" solange das entsprechende Listenelement kleiner als das Vergleichselement ist\n",
    "        while liste[index_von_links] < vergleichselement:\n",
    "            index_von_links = index_von_links + 1\n",
    "        \n",
    "        # Verringere den \"Index_von_rechts\" solange das entsprechende Listenelement größer als das Vergleichselement ist\n",
    "        while liste[index_von_rechts] > vergleichselement:\n",
    "            index_von_rechts = index_von_rechts - 1\n",
    "\n",
    "        # Sobald diese Bedingungen nicht mehr erfüllt sind (Indizes werden nicht mehr erhöht/verringert)\n",
    "        # und der \"Index_von_links\" kleiner gleich dem \"Index_von_rechts\" ist\n",
    "        # dann tausche die Listenelemente\n",
    "        # und erhöhe/verringere wie gewohnt die Indizes\n",
    "        if index_von_links <= index_von_rechts:\n",
    "            liste[index_von_links], liste[index_von_rechts] = liste[index_von_rechts], liste[index_von_links]\n",
    "            index_von_links, index_von_rechts = index_von_links + 1, index_von_rechts - 1\n",
    "    # Sobald die Inidzes sich treffen/überholen, rufe die QuickSort-Funktion für die sich ergebenden Teilprobleme auf\n",
    "      # Teilproblem 1: Liste vom Anfang bis zum \"Index_von_rechts\"\n",
    "      # Teilproblem 2: Liste vom \"Index_von_links\" bis zum Ende\n",
    "    quicksort(liste, anfang, index_von_rechts)\n",
    "    quicksort(liste, index_von_links, ende)\n",
    "  "
   ]
  },
  {
   "cell_type": "markdown",
   "metadata": {},
   "source": [
    "## Testen\n",
    "Code zum Testen des Sortier-Programms"
   ]
  },
  {
   "cell_type": "code",
   "execution_count": null,
   "metadata": {
    "colab": {
     "base_uri": "https://localhost:8080/"
    },
    "id": "R0tNZ32i2rXD",
    "outputId": "d8b7cdc6-d7dc-49b4-b83b-7af0d1c01169"
   },
   "outputs": [],
   "source": [
    "arr = [10, 7, 8, 9, 1, 5] \n",
    "n = len(arr) \n",
    "quicksort(arr, 0, n-1) \n",
    "print(\"Die sortierte Liste ist:\") \n",
    "print(arr)"
   ]
  }
 ],
 "metadata": {
  "colab": {
   "name": "QuickSort.ipynb",
   "provenance": []
  },
  "kernelspec": {
   "display_name": "Python 3",
   "language": "python",
   "name": "python3"
  },
  "language_info": {
   "codemirror_mode": {
    "name": "ipython",
    "version": 3
   },
   "file_extension": ".py",
   "mimetype": "text/x-python",
   "name": "python",
   "nbconvert_exporter": "python",
   "pygments_lexer": "ipython3",
   "version": "3.7.6"
  }
 },
 "nbformat": 4,
 "nbformat_minor": 1
}
