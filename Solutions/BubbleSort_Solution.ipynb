{
  "nbformat": 4,
  "nbformat_minor": 0,
  "metadata": {
    "colab": {
      "name": "BubbleSort.ipynb",
      "provenance": []
    },
    "kernelspec": {
      "name": "python3",
      "display_name": "Python 3"
    }
  },
  "cells": [
    {
      "cell_type": "markdown",
      "metadata": {
        "id": "voQdiBHEa8R_"
      },
      "source": [
        "**Bubble Sort**\n",
        "\n",
        "Grundlegendes Ziel der Sortieralgorithmen ist das Sortieren einer Liste von Elementen, z.B. Zahlen (integer) oder Wörter (strings) gemäß eines zuvor definierten Kriteriums. Im Falle von Zahlen könnte dies zum Besipiel in aufsteigender Reihenfolge, oder im Falle von Wörter in alphabetischer Reihenfolge sein.\n",
        "\n",
        "Beim Bubble Sort-Algorithmus wird dieses Ziel erreicht, in dem die zu sortierende Liste immer wieder von links nach rechts durchlaufen wird und durch paarweisen Vergleich sortiert wird, bis die gesamte Liste sortiert ist.\n",
        "\n",
        "Dabei verkleinert sich der Bereich, der zu paarweisen Vergleich betrachtet wird, stetig. Mit jedem Durchlauf, muss ein Element weniger am Ende der Liste betrachtet werden. Somit wird die Liste zum sortieren immer genauso so oft durchlaufen, wie sie lang ist: eine Liste mit 8 Elemente wird 8 mal durchlaufen.\n",
        "\n",
        "Der paarweise Vergleich in jedem Durchlauf erfolgt folgendermaßen:\n",
        "\n",
        "\n",
        "*   Von Beginn (linkes Element) bis zum Ende des Suchbereichs\n",
        "*   wird jedes Element mit seinem nächsten Nachbarelement zur Rechten verglichen:\n",
        "\n",
        ">  *  ist das Element kleiner, kann es links stehen bleiben und wir wandern zum nächsten Element für den nächsten paarweisen Vergleich\n",
        ">  *  ist das Element größer, so muss es gemäß der Sortierung den Platz mit seinem Nachbarelement tauschen \n",
        "\n",
        "\n",
        "Ziel ist es, eine Liste aus Zahlen oder Wörtern in aufsteigender Reihenfolge bzw. alphabetsich zu sortieren.\n",
        "\n",
        "Tipps in Python:\n",
        "\n",
        "\n",
        "*   **Liste erstellen**\n",
        "\n",
        "\n",
        "*   **Listenelement bearbeiten**\n",
        "\n",
        " Zum Beispiel zum Festelegen und Auslesen des Pivot-Elements/Vergleichsemelemnents\n",
        "\n",
        "\n",
        "*   **Vergleich zweier Elemente** \n",
        "\n",
        "*   **Listen durchlaufen** \n",
        "\n",
        "*   **Listen erweitern** \n",
        "\n",
        "*   **Funktionen in Python** (Argumente, Rückgabewerte)\n",
        "\n",
        "  Eine Funktion in Python ist eine für sich stehende Einheit, die wiederholt ausgeführt bzw. aufgerufen werden kann. \n",
        "\n",
        "\n",
        "*   **Code testen**\n",
        "\n",
        "\n"
      ]
    },
    {
      "cell_type": "code",
      "metadata": {
        "id": "egGMpZw0dPfu"
      },
      "source": [
        "# Pseudocode: \n",
        "\n",
        "# Definere eine Funktion mit den Übergabeparametern:\n",
        "  # 1) die zu sortierende Liste\n",
        "  # Rückgabewerte: die sortierte Liste\n",
        "\n",
        "# definiere eine Variable, die anzeigt, ob Elemente getauscht wurden \n",
        "\n",
        "# definiere eine Variable, die die Anzahl der bereits sortierten Elemente beschreibt\n",
        "# und somit auch den Bereich am rechten Ende der Liste beschriebt, der nicht mehr betrachtet werden muss\n",
        "# zu Beginn ist die Anzahl der sortierten Elemente 0\n",
        "\n",
        "# Durchlaufe die Liste so lange, bis keine Elemente mehr getauscht werden\n",
        "    # Setze dazu die entsprechende Variable zum Anzeigen des Elemententausches auf 0\n",
        "    \n",
        "    # Durchlaufe nun die Liste von links bis zum Ende des noch zu sortierenden Bereichs\n",
        "        # prüfe ob das aktuell betrachtete Element (aktueller_index) größer als sein rechtes Nachbarelement (aktueller_index) ist\n",
        "        # wenn ja: tausche die beiden Einträge\n",
        "        # 1) führe eine Hilfsvariable ein, der du das Nachbarelement (aktueller_index) zuweist \n",
        "        # 2) Überschreibe den Listeneintrag an der Position des Nachbarelementes mit dem aktuellen Listenelement(aktueller_index)\n",
        "        # 3) Überschreibe dann den aktuell betrachteten Listeneintrag (aktueller_index) mit der Hilfvariable\n",
        "        # Wichtig!: Die Variable zum Anzeigen des Elemententausches sollte nun um 1 erhöht werden\n",
        "\n",
        "\n",
        "    # Nachdem die Liste einmal von links bis zum Ende des zu sortierenden Bereichs gelaufen ist, wurde ein weiteres Element\n",
        "    # durch den Tausch korrekt einsortiert --> erhöhe die Variable zur Anzahl der bereits sortierten Elemente um 1\n",
        "\n",
        "    \n",
        "# gib die sortierte Liste zurück"
      ],
      "execution_count": null,
      "outputs": []
    },
    {
      "cell_type": "code",
      "metadata": {
        "id": "TFZ5x80eumqS"
      },
      "source": [
        "def bubblesort(liste):\n",
        "\n",
        "  # definiere eine Variable, die anzeigt, ob Elemente getauscht wurden \n",
        "  elemente_tausch = -1\n",
        "\n",
        "  # definiere eine Variable, die die Anzahl der bereits sortierten Elemente beschreibt\n",
        "  # und somit auch den Bereich am rechten Ende der Liste beschriebt, der nicht mehr betrachtet werden muss\n",
        "  # zu Beginn ist die Anzahl der sortierten Elemente 0\n",
        "  sortierte_elemente = 0\n",
        "\n",
        "  # Durchlaufe die Liste so lange, bis keine Elemente mehr getauscht werden\n",
        "  while not elemente_tausch == 0:\n",
        "  # Setze dazu die entsprechende Variable zum Anzeigen des Elemententausches auf 0\n",
        "    elemente_tausch = 0\n",
        "    \n",
        "    # Durchlaufe nun die Liste von links bis zum Ende des noch zu sortierenden Bereichs\n",
        "    for aktueller_index in range(len(liste)-sortierte_elemente -1):\n",
        "\n",
        "      # prüfe ob das aktuell betrachtete Element (aktueller_index) größer als sein rechtes Nachbarelement (aktueller_index) ist\n",
        "      # wenn ja: tausche die beiden Einträge\n",
        "        # 1) führe eine Hilfsvariable ein, der du das Nachbarelement (aktueller_index) zuweist \n",
        "        # 2) Überschreibe den Listeneintrag an der Position des Nachbarelementes mit dem aktuellen Listenelement(aktueller_index)\n",
        "        # 3) Überschreibe dann den aktuell betrachteten Listeneintrag (aktueller_index) mit der Hilfvariable\n",
        "      # Wichtig!: Die Variable zum Anzeigen des Elemententausches sollte nun um 1 erhöht werden\n",
        "      if liste[aktueller_index] > liste[aktueller_index+1]:\n",
        "        hilfs_variable = liste[aktueller_index+1]\n",
        "        liste[aktueller_index+1] = liste[aktueller_index]\n",
        "        liste[aktueller_index] = hilfs_variable\n",
        "        elemente_tausch = elemente_tausch + 1\n",
        "      else:\n",
        "        continue\n",
        "    # Nachdem die Liste einmal von links bis zum Ende des zu sortierenden Bereichs gelaufen ist, wurde ein weiteres Element\n",
        "    # durch den Tausch korrekt einsortiert --> erhöhe die Variable zur Anzahl der bereits sortierten Elemente um 1\n",
        "    sortierte_elemente = sortierte_elemente + 1\n",
        "\n",
        "  # gib die sortierte Liste zurück  \n",
        "  return liste\n"
      ],
      "execution_count": null,
      "outputs": []
    },
    {
      "cell_type": "code",
      "metadata": {
        "colab": {
          "base_uri": "https://localhost:8080/"
        },
        "id": "rH2aJ2feWr46",
        "outputId": "d9ddcd4a-4030-4ba6-a9cf-5055f841563f"
      },
      "source": [
        "test_liste = [64, 34, 25, 12, 22, 11, 90] \n",
        "   \n",
        "sortierte_test_liste = bubblesort(test_liste) \n",
        "   \n",
        "print (\"Sortierte Liste :\", sortierte_test_liste) \n"
      ],
      "execution_count": null,
      "outputs": [
        {
          "output_type": "stream",
          "text": [
            "Sortierte Liste : [11, 12, 22, 25, 34, 64, 90]\n"
          ],
          "name": "stdout"
        }
      ]
    }
  ]
}
