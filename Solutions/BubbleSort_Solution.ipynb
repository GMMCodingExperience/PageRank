{
 "cells": [
  {
   "cell_type": "markdown",
   "metadata": {
    "id": "voQdiBHEa8R_"
   },
   "source": [
    "# Bubble Sort\n",
    "\n",
    "Grundlegendes Ziel der Sortieralgorithmen ist das Sortieren einer Liste von Elementen, z.B. Zahlen (integer) oder Wörter (strings) gemäß eines zuvor definierten Kriteriums. Im Falle von Zahlen könnte dies zum Beispiel in aufsteigender Reihenfolge, oder im Falle von Wörter in alphabetischer Reihenfolge sein.\n",
    "\n",
    "Beim Bubble Sort-Algorithmus wird dieses Ziel erreicht, in dem die zu sortierende Liste immer wieder von links nach rechts durchlaufen wird und durch paarweisen Vergleich sortiert wird, bis die gesamte Liste sortiert ist.\n",
    "\n",
    "Dabei verkleinert sich der Bereich, der zu paarweisen Vergleich betrachtet wird, stetig. Mit jedem Durchlauf, muss ein Element weniger am Ende der Liste betrachtet werden. Somit wird die Liste zum sortieren immer genauso oft durchlaufen, wie sie lang ist: eine Liste mit 8 Elemente wird 8 mal durchlaufen.\n",
    "\n",
    "Der paarweise Vergleich in jedem Durchlauf erfolgt folgendermaßen:\n",
    "\n",
    "\n",
    "*   Von Beginn (linkes Element) bis zum Ende des Suchbereichs\n",
    "*   wird jedes Element mit seinem nächsten Nachbarelement zur Rechten verglichen:\n",
    "\n",
    ">  *  ist das Element kleiner, kann es links stehen bleiben und wir wandern zum nächsten Element für den nächsten paarweisen Vergleich\n",
    ">  *  ist das Element größer, so muss es gemäß der Sortierung den Platz mit seinem Nachbarelement tauschen \n",
    "\n",
    "\n",
    "Ziel ist es, eine Liste aus Zahlen oder Wörtern in aufsteigender Reihenfolge bzw. alphabetisch zu sortieren.\n"
   ]
  },
  {
   "cell_type": "markdown",
   "metadata": {},
   "source": [
    "## Python-Tipps zum Umgang mit Listen:\n",
    "\n",
    "\n",
    "*   **Liste erstellen**\n",
    "    ```Python\n",
    "    liste = [1, 2, 5, 3]\n",
    "    ```\n",
    "*  **Länge einer Liste**\n",
    "    ```Python\n",
    "    print(len(liste)) \n",
    "    ```\n",
    "    liefert `4`\n",
    "\n",
    "*   **Listenelement bearbeiten**\n",
    "    * Das erste Listenelement ansprechen:\n",
    "        ```Python\n",
    "        print(liste[0])\n",
    "        ```\n",
    "        liefert `1`\n",
    "\n",
    "    * Das letzte Listenelement:\n",
    "        ```Python\n",
    "        print(liste[len(liste)-1])\n",
    "        ```\n",
    "        liefert `3`\n",
    "\n",
    "    * Ein Listenelement überschreiben:\n",
    "        ```Python\n",
    "        liste[1] = 10\n",
    "        print(liste)\n",
    "        ```\n",
    "        liefert `[1, 10, 5, 3]`\n",
    "\n",
    "\n",
    "*   **Vergleich zweier (benachbarter) Elemente** \n",
    "    ```Python\n",
    "    vergleich = liste[1] > liste[2]\n",
    "    print(vergleich)\n",
    "    ```\n",
    "    liefert `True`, denn `10` is größer als `5`\n",
    "\n",
    "*   **Listenelement tauschen** \n",
    "    ```Python\n",
    "    hilfs_variable = liste[2]\n",
    "    liste[2] = liste[1]\n",
    "    liste[1] = hilfs_variable\n",
    "    print(liste)\n",
    "    ```\n",
    "    liefert `[1, 5, 10, 3]`"
   ]
  },
  {
   "cell_type": "code",
   "execution_count": null,
   "metadata": {
    "id": "egGMpZw0dPfu"
   },
   "outputs": [],
   "source": [
    "# Pseudocode: \n",
    "\n",
    "# Definiere eine Funktion mit den Übergabeparametern:\n",
    "  # 1) die zu sortierende Liste\n",
    "  # Rückgabewerte: die sortierte Liste\n",
    "\n",
    "# definiere eine Variable, die anzeigt, ob Elemente getauscht wurden \n",
    "\n",
    "# definiere eine Variable, die die Anzahl der bereits sortierten Elemente beschreibt\n",
    "# und somit auch den Bereich am rechten Ende der Liste beschreibt, der nicht mehr betrachtet werden muss\n",
    "# zu Beginn ist die Anzahl der sortierten Elemente 0\n",
    "\n",
    "# Durchlaufe die Liste so lange, bis keine Elemente mehr getauscht werden\n",
    "    # Setze dazu die entsprechende Variable zum Anzeigen des Elemententausches auf 0\n",
    "    \n",
    "    # Durchlaufe nun die Liste von links bis zum Ende des noch zu sortierenden Bereichs\n",
    "        # prüfe ob das aktuell betrachtete Element (aktueller_index) größer als sein rechtes Nachbarelement (aktueller_index) ist\n",
    "        # wenn ja: tausche die beiden Einträge\n",
    "        # 1) führe eine Hilfsvariable ein, der du das Nachbarelement (aktueller_index) zuweist \n",
    "        # 2) Überschreibe den Listeneintrag an der Position des Nachbarelementes mit dem aktuellen Listenelement(aktueller_index)\n",
    "        # 3) Überschreibe dann den aktuell betrachteten Listeneintrag (aktueller_index) mit der Hilfsvariable\n",
    "        # Wichtig!: Die Variable zum Anzeigen des Elemententausches sollte nun um 1 erhöht werden\n",
    "\n",
    "\n",
    "    # Nachdem die Liste einmal von links bis zum Ende des zu sortierenden Bereichs gelaufen ist, wurde ein weiteres Element\n",
    "    # durch den Tausch korrekt einsortiert --> erhöhe die Variable zur Anzahl der bereits sortierten Elemente um 1\n",
    "\n",
    "    \n",
    "# gib die sortierte Liste zurück"
   ]
  },
  {
   "cell_type": "code",
   "execution_count": null,
   "metadata": {
    "id": "TFZ5x80eumqS"
   },
   "outputs": [],
   "source": [
    "def bubblesort(liste):\n",
    "    \"\"\"\n",
    "    Diese Funktion implementiert den Bubble Sort Algorithmus\n",
    "\n",
    "    parameter liste: Unsortierte Liste, Pythontyp: list\n",
    "    return: sortierte_liste \n",
    "    \"\"\"\n",
    "    sortierte_liste = None\n",
    "\n",
    "    # definiere eine Variable, die anzeigt, ob Elemente getauscht wurden \n",
    "    elemente_tausch = -1\n",
    "\n",
    "    # definiere eine Variable, die die Anzahl der bereits sortierten Elemente beschreibt\n",
    "    # und somit auch den Bereich am rechten Ende der Liste beschriebt, der nicht mehr betrachtet werden muss\n",
    "    # zu Beginn ist die Anzahl der sortierten Elemente 0\n",
    "    sortierte_elemente = 0\n",
    "\n",
    "    # Durchlaufe die Liste so lange, bis keine Elemente mehr getauscht werden\n",
    "    while not elemente_tausch == 0:\n",
    "        # Setze dazu die entsprechende Variable zum Anzeigen des Elemententausches auf 0\n",
    "        elemente_tausch = 0\n",
    "\n",
    "        # Durchlaufe nun die Liste von links bis zum Ende des noch zu sortierenden Bereichs\n",
    "        for aktueller_index in range(len(liste)-sortierte_elemente -1):\n",
    "\n",
    "          # prüfe ob das aktuell betrachtete Element (aktueller_index) größer als sein rechtes Nachbarelement (aktueller_index) ist\n",
    "          # wenn ja: tausche die beiden Einträge\n",
    "            # 1) führe eine Hilfsvariable ein, der du das Nachbarelement (aktueller_index) zuweist \n",
    "            # 2) Überschreibe den Listeneintrag an der Position des Nachbarelementes mit dem aktuellen Listenelement(aktueller_index)\n",
    "            # 3) Überschreibe dann den aktuell betrachteten Listeneintrag (aktueller_index) mit der Hilfsvariable\n",
    "          # Wichtig!: Die Variable zum Anzeigen des Elemententausches sollte nun um 1 erhöht werden\n",
    "            if liste[aktueller_index] > liste[aktueller_index+1]:\n",
    "                hilfs_variable = liste[aktueller_index+1]\n",
    "                liste[aktueller_index+1] = liste[aktueller_index]\n",
    "                liste[aktueller_index] = hilfs_variable\n",
    "                elemente_tausch = elemente_tausch + 1\n",
    "            else:\n",
    "                continue\n",
    "        # Nachdem die Liste einmal von links bis zum Ende des zu sortierenden Bereichs gelaufen ist, wurde ein weiteres Element\n",
    "        # durch den Tausch korrekt einsortiert --> erhöhe die Variable zur Anzahl der bereits sortierten Elemente um 1\n",
    "        sortierte_elemente = sortierte_elemente + 1\n",
    "\n",
    "    # gib die sortierte Liste zurück\n",
    "    sortierte_liste = liste\n",
    "    return sortierte_liste\n"
   ]
  },
  {
   "cell_type": "markdown",
   "metadata": {},
   "source": [
    "## Testen\n",
    "\n",
    "Mit dieser Liste kannst Du dein Sortier-Programm testen:"
   ]
  },
  {
   "cell_type": "code",
   "execution_count": null,
   "metadata": {
    "colab": {
     "base_uri": "https://localhost:8080/"
    },
    "id": "rH2aJ2feWr46",
    "outputId": "d9ddcd4a-4030-4ba6-a9cf-5055f841563f"
   },
   "outputs": [],
   "source": [
    "test_liste = [64, 34, 25, 12, 22, 11, 90] \n",
    "   \n",
    "sortierte_test_liste = bubblesort(test_liste) \n",
    "   \n",
    "print (\"Sortierte Liste :\", sortierte_test_liste) \n"
   ]
  }
 ],
 "metadata": {
  "colab": {
   "name": "BubbleSort.ipynb",
   "provenance": []
  },
  "kernelspec": {
   "display_name": "Python 3",
   "language": "python",
   "name": "python3"
  },
  "language_info": {
   "codemirror_mode": {
    "name": "ipython",
    "version": 3
   },
   "file_extension": ".py",
   "mimetype": "text/x-python",
   "name": "python",
   "nbconvert_exporter": "python",
   "pygments_lexer": "ipython3",
   "version": "3.7.6"
  }
 },
 "nbformat": 4,
 "nbformat_minor": 1
}
