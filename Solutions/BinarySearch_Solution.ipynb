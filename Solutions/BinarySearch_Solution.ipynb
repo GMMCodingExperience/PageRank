{
  "nbformat": 4,
  "nbformat_minor": 0,
  "metadata": {
    "colab": {
      "name": "BinarySearch.ipynb",
      "provenance": [],
      "collapsed_sections": []
    },
    "kernelspec": {
      "name": "python3",
      "display_name": "Python 3"
    }
  },
  "cells": [
    {
      "cell_type": "markdown",
      "metadata": {
        "id": "l1vesB0ce6ue"
      },
      "source": [
        ""
      ]
    },
    {
      "cell_type": "markdown",
      "metadata": {
        "id": "ZIk0QoYS3b7r"
      },
      "source": [
        "**Binary Search**\n",
        "\n",
        "Um in einer Liste von Zahlen oder Wörtern nach einem bestimmten Element effizient zu suchen, benötigen wir eine sortierte Liste, beispielsweise sortiert nach aufsteigenden Zahlen oder in alphabetischer Reihenfolge. \n",
        "\n",
        "Mit Hilfe der sortierten Liste können wir unseren Suchraum nun gezielt einschränken (*Teile & Herrsche*). \n",
        "Dabei können wir wie folgt vorgehen:\n",
        "\n",
        "Zunächst überprüfen wir in einer Funktion, ob die übergebene Suchliste auch nicht leer ist. Außerdem prüfen wir hier den einfachen Fall, wenn die Liste nur aus einem Element besteht. Dann können wir direkt entscheiden, ob sich das Suchelement in der Liste befindet oder nicht.\n",
        "Zum Schluß rufen wir hier die Suchfunktion auf:\n",
        "\n",
        "Beim Programmieren der Suchfunktion sollten folgende Schritte ausgeführt werden:\n",
        "\n",
        "1.   Mittleres Element des Suchraumes identifizieren. Je nach Konvention können wir uns hier entscheiden, im Falle von halben Zahlen hier stehts abzurunden. (Eine Liste mit der Länge 9 hätte das mittlere Element bei 4,5 --> hier runden wir ab auf 4.)\n",
        "2.   Vergleiche das Suchelement mit dem Element in der Mitte der Liste.\n",
        "\n",
        "\n",
        "> Wenn das Suchelement größer ist, suchen wir nur noch im oberen, halb so großen Suchraum rechts von der Mitte weiter.\n",
        "\n",
        "> Wenn das Suchelement kleiner ist, suchen wir nur noch im Listenbereich links davon weiter.\n",
        "\n",
        "Für den ausgewählten Teil-Suchraum starten wir nun wieder mit Schritt 1.\n",
        "\n",
        "Diesen Vorgang führen wir immer wieder durch, bis das gesuchte Element erreicht ist:\n",
        "> Wenn das Element weder größer, noch kleiner ist, haben wir das gewünschte Suchelement gefunden und können dessen Position/Index in der Liste zurückgeben.\n",
        "\n",
        "\n",
        "\n"
      ]
    },
    {
      "cell_type": "markdown",
      "metadata": {
        "id": "juO3CioL9tFW"
      },
      "source": [
        "Rekursive Implementierung"
      ]
    },
    {
      "cell_type": "code",
      "metadata": {
        "id": "ezfwRLGH6woA"
      },
      "source": [
        "# definiere eine Funktion, zum Start der Binärsuche:\n",
        "\n",
        "    # überprüfe ob die Liste bereits leer ist\n",
        "    # dann sollte eine Fehlermeldung zurückgegeben werden, z.B.: \"Es wurde eine leere Liste übergeben\"\n",
        "\n",
        "    # überprüfe ob die Liste nur ein Element enthält\n",
        "    # prüfe, ob unser Suchelement mit eben diesem Element übereinstimmt\n",
        "    # wenn ja, kann der Index 0 zurückgeben werden, da sich unser Suchelement am Index 0 befindet\n",
        "    # wenn nein, kannst du bereits zurück melden, dass das Element nicht in der Liste ist \n",
        "\n",
        "    # schließlich wird die Suchfunktion aufgerufen\n",
        "    # dieser Suchfunktion sollte\n",
        "    # 1) die zu durchsuchende Liste \n",
        "    # 2) das Suchelement\n",
        "    # 3) der Startindex 0\n",
        "    # 4) der Endindex len(liste)-1 übergeben werden"
      ],
      "execution_count": null,
      "outputs": []
    },
    {
      "cell_type": "code",
      "metadata": {
        "id": "3LVy8fkE8h3U"
      },
      "source": [
        "# definiere die Suchfunktion mit den Übergabeparametern:\n",
        "    # 1) die zu durchsuchende Liste \n",
        "    # 2) das Suchelement\n",
        "    # 3) der Startindex 0\n",
        "    # 4) der Endindex len(liste)-1 \n",
        "    # Rückgabewert: Index (Stelle) des gesuchten Elementes in der Liste \n",
        "    # Beachte hier, dass wir in Python bei \"0\" anfangen zu zählen:\n",
        "    # Das Element an der 5. Position in der Liste hat den Index \"4\"\n",
        "\n",
        "  # überprüfe, ob die Liste bereits vollständig durchsucht wurde,\n",
        "  # also ob der Endindex größer als der Anfangsindex ist und das\n",
        "  # Suchelement nicht gefunden wurde \n",
        "\n",
        "  # definiere die Mitte des Suchraumes (abrunden zur nächsten ganzen Zahl)\n",
        "\n",
        "  # wenn das Suchelement kleiner als das mittlere Element ist, suche nur in dem Bereich links von der Mitte weiter\n",
        "  # und passe die rechte Grenze des Suchraumes/ das Suchende an\n",
        "  # setze das Suchende direkt links von der Mitte, sodass der Suchbereich verkleinert wird und nur noch links von der Mitte gesucht wird\n",
        "    ### !! hier kommt es uns zu gute, dass wir die Liste vorher sortiert haben, wir können sicher sein, dass alle Elemente rechts von der Mitte größer sind!!###\n",
        "  # rufe die Suchefunktion wie oben definiert nun erneut auf, mit den angepassten Suchgrenzen (Suchanfang und Suchende)\n",
        "\n",
        "  # wenn das Suchelement kleiner als das mittlere Element ist, suche nur in dem Bereich rechts von der Mitte weiter \n",
        "  # und passe die linke Grenze des Suchraumes an \n",
        "  # rufe die Suchefunktion wie oben definiert nun erneut auf, mit den angepassten Suchgrenzen (Suchanfang und Suchende)\n",
        "\n",
        "  # wenn das Suchelement weder kleiner noch größer als das mittlere Element ist, so haben wir das gesuchte Element gefunden\n",
        "  # es befindet sich in der Mitte des aktuellen Suchraumes, sodass der Index der Mitte der Position unsere Suchelementes entspricht\n",
        "  # gebe diesen Index zurück ---> an dieser Stelle in der Liste befindet sich das gesuchte Element"
      ],
      "execution_count": null,
      "outputs": []
    },
    {
      "cell_type": "code",
      "metadata": {
        "id": "sPgisZPv59NF"
      },
      "source": [
        "# binary serach rekursiv\n",
        "\n",
        "def binary_search_start(such_liste, such_element):\n",
        "    # überprüfe ob die Liste bereits leer ist\n",
        "    # dann sollte eine Fehlermeldung zurückgegeben werden, z.B.: \"Es wurde eine leere Liste übergeben\"\n",
        "    if len(such_liste) == 0:\n",
        "        return print(\"Die Liste ist leer!\")\n",
        "    \n",
        "    # überprüfe ob die Liste nur ein Element enthält\n",
        "    # prüfe, ob unser Suchelement mit eben diesem Element übereinstimmt\n",
        "    # wenn ja, kann der Index 0 zurückgeben werden, da sich unser Suchelement am Index 0 befindet\n",
        "    # wenn nein, kannst du bereits zurück melden, dass das Element nicht in der LiSte ist \n",
        "    if len(such_liste) == 1: \n",
        "        if such_liste[0] == such_element:\n",
        "            return 0\n",
        "        else:\n",
        "            return print(\"Das gesuchte Element ist nicht in der Liste!\")\n",
        "\n",
        "    # schließloch sollte die tatsächlich Suchfunktion aufgerufen werden\n",
        "    return binary_search_work(such_liste, such_element, 0, len(such_liste)-1)\n",
        "\n",
        " \n",
        "\n",
        "def binary_search_work(such_liste, such_element, such_anfang, such_ende):\n",
        "   \n",
        "    # überprüfe, ob die Liste bereits vollständig durchsucht wurde,\n",
        "    # also ob der Endindex größer als der Anfangsindex ist und das\n",
        "    # Suchelement nicht gefunden wurde \n",
        "    if such_ende < such_anfang:\n",
        "        return print(\"Das gesuchte Element ist nicht in der Liste!\")\n",
        "\n",
        "    # definiere die Mitte des Suchraumes (abrunden zu nächsten ganzen Zahl)\n",
        "    mitte = int((such_anfang + such_ende) / 2)\n",
        "\n",
        "    # wenn das Suchelement kleiner als das mittlere Element ist, suche nur in dem Bereich links von der Mitte weiter\n",
        "    if such_element < such_liste[mitte]:# key vermutlich in der linken Seite -> anpassen der rechten Grenze\n",
        "        return binary_search_work(such_liste, such_element, such_anfang, mitte-1)\n",
        "\n",
        "    # wenn das Suchelement kleiner als das mittlere Element ist, suche nur in dem Bereich rechts von der Mitte weiter    \n",
        "    if such_element > such_liste[mitte]:# key vermutlich in der rechten Seite -> anpassen der linken Grenze\n",
        "        return binary_search_work(such_liste, such_element, mitte+1, such_ende)\n",
        "\n",
        "    # wenn das Suchelement weder kleiner noch größer als das mittlere Element ist, so haben wir das gesuchte Element gefunden\n",
        "    # es befindet sich in der Mitte des aktuellen Suchraumes, sodass der Index der Mitte der Position unsere Suchelementes entspricht\n",
        "    # gebe diesen Index zurück\n",
        "    return mitte "
      ],
      "execution_count": null,
      "outputs": []
    },
    {
      "cell_type": "markdown",
      "metadata": {
        "id": "-_l4z8Bh9nAW"
      },
      "source": [
        "Iterative Implementierung"
      ]
    },
    {
      "cell_type": "code",
      "metadata": {
        "id": "30k38De59mXO"
      },
      "source": [
        "# definiere die Suchfunktion mit den Übergabeparametern:\n",
        "  # 1) zu durchsuchende Liste\n",
        "  # 2) gesuchtes Element\n",
        "  # Rückgabewert: Index/Stelle des gesuchten Elementes in der Liste\n",
        "\n",
        "# in der Funktion:\n",
        "\n",
        "# definiere zunächst den Suchanfang ganz links und\n",
        "# das Suchende ganz rechts\n",
        "# beachte auch hier, dass wir für den Index des letzten Elementes bei \"0\" anfangen zu zählen\n",
        "\n",
        "# durchlaufe die Liste nun so lange der Suchanfnag links von oder gleich dem Suchende ist\n",
        "# (sonst hätten wir die Liste bereits komplett durchlaufen)\n",
        "\n",
        "    # während des Listen-Durchlaufs:\n",
        "    # setze die Mitte des zu durchsuchenden Listenbereichs, wobei wir bei einer ungeraden Anzahl von Elementen in der Liste zur nächsten ganzen Zahl abrunden \n",
        "    \n",
        "    # wenn das gesuchte Element kleiner als das Element in der Mitte ist,\n",
        "    # wird das Suchende so angepasst, dass nur noch links von der Mitte weitergesucht wird\n",
        "\n",
        "    # wenn das gesuchte Element größer als das Element in der Mitte ist,\n",
        "    # wird der Suchanfang so verschoben, dass nur noch rechts von der Mitte weiter gesucht wird\n",
        "\n",
        "    # sollte das gesuchte Element dem Element in der Mitte entsprechen, ist die Suche erfolgreich\n",
        "    # der Index der Mitte kann nun als Ergbenis zurückgegeben werden, da sich an diesem Index das gesuchte Element befindet \n"
      ],
      "execution_count": null,
      "outputs": []
    },
    {
      "cell_type": "code",
      "metadata": {
        "id": "QVqGqUvx6NUS"
      },
      "source": [
        "# binary search iterativ\n",
        "def binary_search_iterativ(such_liste, such_element):\n",
        "    such_anfang = 0\n",
        "    such_ende = len(such_liste) - 1\n",
        "    while such_anfang <= such_ende:\n",
        "        mitte = int((such_anfang + such_ende) / 2)  # Mitte der Liste (abgerundet)\n",
        "        if such_element < such_liste[mitte]:\n",
        "            such_ende = mitte - 1\n",
        "        elif such_element > such_liste[mitte]:\n",
        "            such_anfang = mitte + 1\n",
        "        else:\n",
        "            return mitte\n",
        "    return \"Das gesuchte Element befindet sich nicht in der Liste\""
      ],
      "execution_count": null,
      "outputs": []
    },
    {
      "cell_type": "code",
      "metadata": {
        "colab": {
          "base_uri": "https://localhost:8080/"
        },
        "id": "izD_wC8z6RaB",
        "outputId": "52baeee8-5f54-479a-963f-346cfcf0f50a"
      },
      "source": [
        "    data = [12, 17, 23, 24, 31, 32, 36, 37, 42, 47, 53, 55, 64, 75, 89, 91, 91, 93, 96]\n",
        "    \n",
        "    print('Binäre Suche iterativ:', binary_search_iterativ(data, 100))\n",
        "    print('Binäre Suche rekursiv:', binary_search_start(data, 32))"
      ],
      "execution_count": null,
      "outputs": [
        {
          "output_type": "stream",
          "text": [
            "Binäre Suche iterativ: Das gesuchte Element befindet sich nicht in der Liste\n",
            "Binäre Suche rekursiv: 5\n"
          ],
          "name": "stdout"
        }
      ]
    }
  ]
}
