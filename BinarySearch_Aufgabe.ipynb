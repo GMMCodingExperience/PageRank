{
  "nbformat": 4,
  "nbformat_minor": 0,
  "metadata": {
    "colab": {
      "name": "BinarySearch.ipynb",
      "provenance": [],
      "collapsed_sections": []
    },
    "kernelspec": {
      "name": "python3",
      "display_name": "Python 3"
    }
  },
  "cells": [
    {
      "cell_type": "markdown",
      "metadata": {
        "id": "ZIk0QoYS3b7r"
      },
      "source": [
        "# Binary Search\n",
        "\n",
        "Um in einer Liste von Zahlen oder Wörtern nach einem bestimmten Element effizient zu suchen, benötigen wir eine sortierte Liste, beispielsweise sortiert nach aufsteigenden Zahlen oder in alphabetischer Reihenfolge. \n",
        "\n",
        "Mit Hilfe der sortierten Liste können wir unseren Suchraum nun gezielt einschränken (*Teile & Herrsche*). \n",
        "\n",
        "> Wenn das Suchelement größer als das Element in der Mitte der Liste ist, wird nur noch im Teil rechts der Mitte weitergesucht\n",
        "\n",
        "> Wenn das Suchelement kleiner als das Element in der Mitte der Liste ist, wird nur noch im Teil links der Mitte weitergeuscht. \n",
        "\n",
        "Da wir von einer sortierten Liste ausgehen, können wir sicher sein, dass wir nur noch in enem teil der LIste weitersuchen müssen. So verkleinern wir unseren Suchraum so lange, bis das gesuchte Element gefunden hast. Oder wir können schlussfolgern, dass das gesuchte Element gar nicht in der Liste enthalten ist.\n",
        "\n",
        "\n"
      ]
    },
    {
      "source": [
        "# Pseudocode \n",
        "\n",
        "Definiere Dir die Suchfunktion mit den folgenden Übergabeparametern:\n",
        "  - die zu durchsuchende Liste\n",
        "  - das gesuchtes Element\n",
        "Der Rückgabewert der Funktion sollte der Index (Stelle) des gesuchten Elementes in der Liste sein.\n",
        "\n",
        "\n",
        "In der Funktion kannst du die folgenden Schritte programmieren:\n",
        "\n",
        "1) Definiere zunächst eine Variable für den Suchanfang in der Liste ganz links sowie eine Variable für das Suchende ganz rechts.  \n",
        "   Tipp: Beachte hier, dass wir für den Index des letzten Elementes in der Liste bei \"0\" anfangen zu zählen (len(liste)-1)\n",
        "\n",
        "2) Solang der Index des Suchanfangs kleiner gleich dem Suchende ist (Tipp: while-Schleife), durchsuchen wir die Liste folgendermaßen:\n",
        "   (Sobald sich Suchanfang und Suchenende treffen, haben wir die komplette Liste durchsucht)\n",
        "\n",
        "  Während des Listen-Durchlaufs:\n",
        "      a) Setze die Mitte des zu durchsuchenden Listenbereichs, wobei wir bei einer ungeraden Anzahl von Elementen in der Liste            zur nächsten ganzen Zahl abrunden \n",
        "    \n",
        "      b) Überprüfe nun: \n",
        "      \n",
        "          - WENN gesuchte Element kleiner als das Element in der Mitte ist,\n",
        "            so wird das Suchende so angepasst, dass nur noch links von der Mitte weitergesucht wird\n",
        "\n",
        "          - WENN das gesuchte Element größer als das Element in der Mitte ist,\n",
        "            so wird der Suchanfang so verschoben, dass nur noch rechts von der Mitte weiter gesucht wird\n",
        "\n",
        "          - SONST: sollte das gesuchte Element dem Element in der Mitte entsprechen, ist die Suche erfolgreich\n",
        "            und der Index der Mitte kann nun als Ergbenis zurückgegeben werde\n",
        "\n",
        "      Wenn das Element noch nicht gefunden wurde, werden die Schritte solange durchgeführt, bis sich Suchanfang und Suchende           treffen. \n",
        "3) Sollte das gesuchte Element nicht in der Liste gefunden werden, geben wir zum Schluss eine entsprechende Meldung zurück. "
      ],
      "cell_type": "markdown",
      "metadata": {
        "id": "30k38De59mXO"
      }
    }
  ]
}