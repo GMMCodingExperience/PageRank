{
  "nbformat": 4,
  "nbformat_minor": 0,
  "metadata": {
    "colab": {
      "name": "QuickSort.ipynb",
      "provenance": []
    },
    "kernelspec": {
      "name": "python3",
      "display_name": "Python 3"
    }
  },
  "cells": [
    {
      "cell_type": "markdown",
      "metadata": {
        "id": "rXD94vak2afD"
      },
      "source": [
        "# QuickSort\n",
        "\n",
        "Grundlegendes Ziel der Sortieralgorithmen ist das Sortieren einer Liste von Elementen, z.B. Zahlen (integer) oder Wörter (strings) gemäß einer zuvor definierten Kriteriums. Im Falle von Zahlen könnte dies zum Besipiel in aufsteigender Reihenfolge, oder im Falle von Wörter in alphabetischer Reihenfolge sein. \n",
        "\n",
        "Beim QuickSort-Algorithmus wird dieses Ziel erreicht, in dem die zu sortierende Liste in immer kleinere Teilprobleme aufgeteilt werden, die einfacher zu lösen sind. Schließlich werden die gelösten Teilprobleme wieder zusammengefügt.\n",
        "\n",
        "Lasst uns nun gemeinsam den Sortieralgorithmus QuickSort in Python programmieren. Hier folegen ein paar Tipps mit Code-Schnipsel, die euch beim Programmieren helfen können. \n",
        "\n",
        "Ziel ist es, eine Liste aus Zahlen oder Wörtern in aufsteigender Reihenfolge bzw. alphabetsich zu sortieren. \n",
        "\n",
        "Tipps in Python zum Umgang mit Listen:\n",
        "\n",
        "\n",
        "*   **Liste erstellen**\n",
        "\n",
        "\n",
        "*   **Listenelement bearbeiten**\n",
        "\n",
        "*   **Vergleich zweier Elemente** \n",
        "\n",
        "*   **Listen durchlaufen** \n"
      ]
    },
    {
      "source": [
        "# Pseudocode\n",
        "\n",
        "\n",
        "1) Definere eine Funktion, der die zu sortierende Liste übergibst.\n",
        "    Der Rückgabewerte ist die sortierte Liste.\n",
        "\n",
        "2) Definiere den \"Index_von_links\", der den Anfang der Liste beschreibt\n",
        "\n",
        "3) Definiere den \"Index_von_rechts\" am Ende der Liste\n",
        "\n",
        "4) Definiere das Vergleichselement, beispielweise ein zufälliges Element der Liste\n",
        "\n",
        "5) Sortiere die Liste so lange, bis sich \"Index_von_links\" und \"Index_von_rechts\" treffen (Tipp: while-schleife):\n",
        "  \n",
        "      a) Solange das Listenelement am \"Index_von_links\" kleiner als das Vergleichselement ist (Tipp: while-Schleife):\n",
        "         - Erhöhe den \"Index_von_links\" um 1\n",
        "\n",
        "      b) Solange das Listenelement am \"Index_von_rechts\" größer als das Vergleichselement ist (Tipp: while-Schleife):\n",
        "         - Verringere den \"Index_von_rechts\" um 1\n",
        "\n",
        "      c) WENN der \"Index_von_links\" kleiner gleich dem \"Index_von_rechts\" ist (Tipp: if-Bedingung)\n",
        "         DANN tausche die Listenelemente an den Stellen \"Index_von_links\" und \"Index_von_rechts\"\n",
        "          \n",
        "         Erhöhe den \"Index_von_links\" um 1\n",
        "         Verringere den \"Index_von_rechts\" um 1\n",
        "\n",
        "Sobald sich die Inidzes treffen/überholen:\n",
        "\n",
        "6) Rufe die QuickSort-Funtion für die zwei sich ergebenden Teilprobleme auf\n",
        "   - Teilproblem 1: Liste vom Anfang bis zum \"Index_von_rechts\" sortieren\n",
        "   - Teilproblem 2: Liste vom \"Index_von_links\" bis zum Ende sortieren"
      ],
      "cell_type": "markdown",
      "metadata": {
        "id": "xWlO-w8W7kdO"
      }
    },
    {
      "source": [
        "Code zum Testen des Sortier-Programms"
      ],
      "cell_type": "markdown",
      "metadata": {}
    },
    {
      "cell_type": "code",
      "metadata": {
        "colab": {
          "base_uri": "https://localhost:8080/"
        },
        "id": "R0tNZ32i2rXD",
        "outputId": "d8b7cdc6-d7dc-49b4-b83b-7af0d1c01169"
      },
      "source": [
        "arr = [10, 7, 8, 9, 1, 5] \n",
        "n = len(arr) \n",
        "quicksort(arr, 0, n-1) \n",
        "print(\"Sorted array is:\") \n",
        "print(arr)"
      ],
      "execution_count": null,
      "outputs": [
        {
          "output_type": "stream",
          "text": [
            "Sorted array is:\n",
            "[1, 5, 7, 8, 9, 10]\n"
          ],
          "name": "stdout"
        }
      ]
    }
  ]
}